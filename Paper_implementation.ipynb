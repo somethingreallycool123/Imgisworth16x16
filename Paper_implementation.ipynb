{
  "cells": [
    {
      "cell_type": "markdown",
      "id": "b8ce67f6-0b00-448b-885d-b7d22bce4ff6",
      "metadata": {
        "id": "b8ce67f6-0b00-448b-885d-b7d22bce4ff6"
      },
      "source": [
        "\n",
        "\n",
        "<img src=\"https://raw.githubusercontent.com/mrdbourke/pytorch-deep-learning/main/images/08-george-hotz-quote.png\" width=600 alt=\"george hotz quote saying to get better at being a machine learning engineer, download a paper, implement it and keep going until you have skills\"/>\n",
        "\n",
        "\n",
        "    \n"
      ]
    },
    {
      "cell_type": "code",
      "execution_count": null,
      "id": "ebe46d77-6c4d-4102-9994-2cb89f633f18",
      "metadata": {
        "colab": {
          "base_uri": "https://localhost:8080/"
        },
        "id": "ebe46d77-6c4d-4102-9994-2cb89f633f18",
        "outputId": "155b0037-7477-4c61-cc1f-0a4ccf42a760"
      },
      "outputs": [
        {
          "output_type": "stream",
          "name": "stdout",
          "text": [
            "torch version: 2.5.1+cu121\n",
            "torchvision version: 0.20.1+cu121\n"
          ]
        }
      ],
      "source": [
        "\n",
        "    import torch\n",
        "    import torchvision\n",
        "    print(f\"torch version: {torch.__version__}\")\n",
        "    print(f\"torchvision version: {torchvision.__version__}\")"
      ]
    },
    {
      "cell_type": "code",
      "execution_count": null,
      "id": "960eb156-c1b1-4e76-a812-01bf045835bd",
      "metadata": {
        "colab": {
          "base_uri": "https://localhost:8080/"
        },
        "id": "960eb156-c1b1-4e76-a812-01bf045835bd",
        "outputId": "7583d229-ad85-4fe0-d159-752620d14645"
      },
      "outputs": [
        {
          "output_type": "stream",
          "name": "stdout",
          "text": [
            "[INFO] Couldn't find torchinfo... installing it.\n"
          ]
        }
      ],
      "source": [
        "# Continue with regular imports\n",
        "import matplotlib.pyplot as plt\n",
        "import torch\n",
        "import torchvision\n",
        "\n",
        "from torch import nn\n",
        "from torchvision import transforms\n",
        "\n",
        "# Try to get torchinfo, install it if it doesn't work\n",
        "try:\n",
        "    from torchinfo import summary\n",
        "except:\n",
        "    print(\"[INFO] Couldn't find torchinfo... installing it.\")\n",
        "    !pip install -q torchinfo\n",
        "    from torchinfo import summary\n",
        "\n"
      ]
    },
    {
      "cell_type": "code",
      "execution_count": null,
      "id": "a7878472-6680-43bf-981b-b7fa722ef9aa",
      "metadata": {
        "id": "a7878472-6680-43bf-981b-b7fa722ef9aa"
      },
      "outputs": [],
      "source": [
        "\"\"\"\n",
        "Contains functionality for creating PyTorch DataLoaders for\n",
        "image classification data using CIFAR-10.\n",
        "\"\"\"\n",
        "import os\n",
        "from torchvision import datasets, transforms\n",
        "from torch.utils.data import DataLoader\n",
        "\n",
        "NUM_WORKERS = os.cpu_count()\n",
        "\n",
        "def create_dataloaders(train_data, test_data,\n",
        "    transform: transforms.Compose,\n",
        "    batch_size: int,\n",
        "    num_workers: int=NUM_WORKERS\n",
        "):\n",
        "    \"\"\"Creates training and testing DataLoaders for CIFAR-10.\n",
        "\n",
        "    Args:\n",
        "        train_data: PyTorch Dataset object for training data (e.g., CIFAR10).\n",
        "        test_data: PyTorch Dataset object for testing data (e.g., CIFAR10).\n",
        "        transform: torchvision transforms to perform on training and testing data.\n",
        "        batch_size: Number of samples per batch in each of the DataLoaders.\n",
        "        num_workers: An integer for number of workers per DataLoader.\n",
        "\n",
        "    Returns:\n",
        "        A tuple of (train_dataloader, test_dataloader, class_names).\n",
        "        Where class_names is a list of the target classes.\n",
        "    \"\"\"\n",
        "    # Apply transforms to the datasets\n",
        "    train_data.transform = transform\n",
        "    test_data.transform = transform\n",
        "\n",
        "    # Get class names\n",
        "    class_names = train_data.classes\n",
        "\n",
        "    # Turn datasets into data loaders\n",
        "    train_dataloader = DataLoader(\n",
        "        train_data,\n",
        "        batch_size=batch_size,\n",
        "        shuffle=True,\n",
        "        num_workers=num_workers,\n",
        "        pin_memory=True,\n",
        "    )\n",
        "\n",
        "    test_dataloader = DataLoader(\n",
        "        test_data,\n",
        "        batch_size=batch_size,\n",
        "        shuffle=False,\n",
        "        num_workers=num_workers,\n",
        "        pin_memory=True,\n",
        "    )\n",
        "\n",
        "    return train_dataloader, test_dataloader, class_names"
      ]
    },
    {
      "cell_type": "code",
      "execution_count": null,
      "id": "2170adf7-a5f9-46ac-ada6-99e64fb04f7b",
      "metadata": {
        "id": "2170adf7-a5f9-46ac-ada6-99e64fb04f7b"
      },
      "outputs": [],
      "source": [
        "\"\"\"\n",
        "Contains functions for training and testing a PyTorch model.\n",
        "\"\"\"\n",
        "import torch\n",
        "\n",
        "from tqdm.auto import tqdm\n",
        "from typing import Dict, List, Tuple\n",
        "\n",
        "def train_step(model: torch.nn.Module,\n",
        "               dataloader: torch.utils.data.DataLoader,\n",
        "               loss_fn: torch.nn.Module,\n",
        "               optimizer: torch.optim.Optimizer,\n",
        "               device: torch.device) -> Tuple[float, float]:\n",
        "    \"\"\"Trains a PyTorch model for a single epoch.\n",
        "\n",
        "    Turns a target PyTorch model to training mode and then\n",
        "    runs through all of the required training steps (forward\n",
        "    pass, loss calculation, optimizer step).\n",
        "\n",
        "    Args:\n",
        "    model: A PyTorch model to be trained.\n",
        "    dataloader: A DataLoader instance for the model to be trained on.\n",
        "    loss_fn: A PyTorch loss function to minimize.\n",
        "    optimizer: A PyTorch optimizer to help minimize the loss function.\n",
        "    device: A target device to compute on (e.g. \"cuda\" or \"cpu\").\n",
        "\n",
        "    Returns:\n",
        "    A tuple of training loss and training accuracy metrics.\n",
        "    In the form (train_loss, train_accuracy). For example:\n",
        "\n",
        "    (0.1112, 0.8743)\n",
        "    \"\"\"\n",
        "    # Put model in train mode\n",
        "    model.train()\n",
        "\n",
        "    # Setup train loss and train accuracy values\n",
        "    train_loss, train_acc = 0, 0\n",
        "\n",
        "    # Loop through data loader data batches\n",
        "    for batch, (X, y) in enumerate(dataloader):\n",
        "        # Send data to target device\n",
        "        X, y = X.to(device), y.to(device)\n",
        "\n",
        "        # 1. Forward pass\n",
        "        y_pred = model(X)\n",
        "\n",
        "        # 2. Calculate  and accumulate loss\n",
        "        loss = loss_fn(y_pred, y)\n",
        "        train_loss += loss.item()\n",
        "\n",
        "        # 3. Optimizer zero grad\n",
        "        optimizer.zero_grad()\n",
        "\n",
        "        # 4. Loss backward\n",
        "        loss.backward()\n",
        "\n",
        "        # 5. Optimizer step\n",
        "        optimizer.step()\n",
        "\n",
        "        # Calculate and accumulate accuracy metric across all batches\n",
        "        y_pred_class = torch.argmax(torch.softmax(y_pred, dim=1), dim=1)\n",
        "        train_acc += (y_pred_class == y).sum().item()/len(y_pred)\n",
        "\n",
        "    # Adjust metrics to get average loss and accuracy per batch\n",
        "    train_loss = train_loss / len(dataloader)\n",
        "    train_acc = train_acc / len(dataloader)\n",
        "    return train_loss, train_acc\n",
        "\n",
        "def test_step(model: torch.nn.Module,\n",
        "              dataloader: torch.utils.data.DataLoader,\n",
        "              loss_fn: torch.nn.Module,\n",
        "              device: torch.device) -> Tuple[float, float]:\n",
        "    \"\"\"Tests a PyTorch model for a single epoch.\n",
        "\n",
        "    Turns a target PyTorch model to \"eval\" mode and then performs\n",
        "    a forward pass on a testing dataset.\n",
        "\n",
        "    Args:\n",
        "    model: A PyTorch model to be tested.\n",
        "    dataloader: A DataLoader instance for the model to be tested on.\n",
        "    loss_fn: A PyTorch loss function to calculate loss on the test data.\n",
        "    device: A target device to compute on (e.g. \"cuda\" or \"cpu\").\n",
        "\n",
        "    Returns:\n",
        "    A tuple of testing loss and testing accuracy metrics.\n",
        "    In the form (test_loss, test_accuracy). For example:\n",
        "\n",
        "    (0.0223, 0.8985)\n",
        "    \"\"\"\n",
        "    # Put model in eval mode\n",
        "    model.eval()\n",
        "\n",
        "    # Setup test loss and test accuracy values\n",
        "    test_loss, test_acc = 0, 0\n",
        "\n",
        "    # Turn on inference context manager\n",
        "    with torch.inference_mode():\n",
        "        # Loop through DataLoader batches\n",
        "        for batch, (X, y) in enumerate(dataloader):\n",
        "            # Send data to target device\n",
        "            X, y = X.to(device), y.to(device)\n",
        "\n",
        "            # 1. Forward pass\n",
        "            test_pred_logits = model(X)\n",
        "\n",
        "            # 2. Calculate and accumulate loss\n",
        "            loss = loss_fn(test_pred_logits, y)\n",
        "            test_loss += loss.item()\n",
        "\n",
        "            # Calculate and accumulate accuracy\n",
        "            test_pred_labels = test_pred_logits.argmax(dim=1)\n",
        "            test_acc += ((test_pred_labels == y).sum().item()/len(test_pred_labels))\n",
        "\n",
        "    # Adjust metrics to get average loss and accuracy per batch\n",
        "    test_loss = test_loss / len(dataloader)\n",
        "    test_acc = test_acc / len(dataloader)\n",
        "    return test_loss, test_acc\n",
        "\n",
        "def train(model: torch.nn.Module,\n",
        "          train_dataloader: torch.utils.data.DataLoader,\n",
        "          test_dataloader: torch.utils.data.DataLoader,\n",
        "          optimizer: torch.optim.Optimizer,\n",
        "          loss_fn: torch.nn.Module,\n",
        "          epochs: int,\n",
        "          device: torch.device) -> Dict[str, List]:\n",
        "    \"\"\"Trains and tests a PyTorch model.\n",
        "\n",
        "    Passes a target PyTorch models through train_step() and test_step()\n",
        "    functions for a number of epochs, training and testing the model\n",
        "    in the same epoch loop.\n",
        "\n",
        "    Calculates, prints and stores evaluation metrics throughout.\n",
        "\n",
        "    Args:\n",
        "    model: A PyTorch model to be trained and tested.\n",
        "    train_dataloader: A DataLoader instance for the model to be trained on.\n",
        "    test_dataloader: A DataLoader instance for the model to be tested on.\n",
        "    optimizer: A PyTorch optimizer to help minimize the loss function.\n",
        "    loss_fn: A PyTorch loss function to calculate loss on both datasets.\n",
        "    epochs: An integer indicating how many epochs to train for.\n",
        "    device: A target device to compute on (e.g. \"cuda\" or \"cpu\").\n",
        "\n",
        "    Returns:\n",
        "    A dictionary of training and testing loss as well as training and\n",
        "    testing accuracy metrics. Each metric has a value in a list for\n",
        "    each epoch.\n",
        "    In the form: {train_loss: [...],\n",
        "              train_acc: [...],\n",
        "              test_loss: [...],\n",
        "              test_acc: [...]}\n",
        "    For example if training for epochs=2:\n",
        "             {train_loss: [2.0616, 1.0537],\n",
        "              train_acc: [0.3945, 0.3945],\n",
        "              test_loss: [1.2641, 1.5706],\n",
        "              test_acc: [0.3400, 0.2973]}\n",
        "    \"\"\"\n",
        "    # Create empty results dictionary\n",
        "    results = {\"train_loss\": [],\n",
        "               \"train_acc\": [],\n",
        "               \"test_loss\": [],\n",
        "               \"test_acc\": []\n",
        "    }\n",
        "\n",
        "    # Make sure model on target device\n",
        "    model.to(device)\n",
        "\n",
        "    # Loop through training and testing steps for a number of epochs\n",
        "    for epoch in tqdm(range(epochs)):\n",
        "        train_loss, train_acc = train_step(model=model,\n",
        "                                          dataloader=train_dataloader,\n",
        "                                          loss_fn=loss_fn,\n",
        "                                          optimizer=optimizer,\n",
        "                                          device=device)\n",
        "        test_loss, test_acc = test_step(model=model,\n",
        "          dataloader=test_dataloader,\n",
        "          loss_fn=loss_fn,\n",
        "          device=device)\n",
        "\n",
        "        # Print out what's happening\n",
        "        print(\n",
        "          f\"Epoch: {epoch+1} | \"\n",
        "          f\"train_loss: {train_loss:.4f} | \"\n",
        "          f\"train_acc: {train_acc:.4f} | \"\n",
        "          f\"test_loss: {test_loss:.4f} | \"\n",
        "          f\"test_acc: {test_acc:.4f}\"\n",
        "        )\n",
        "\n",
        "        # Update results dictionary\n",
        "        results[\"train_loss\"].append(train_loss)\n",
        "        results[\"train_acc\"].append(train_acc)\n",
        "        results[\"test_loss\"].append(test_loss)\n",
        "        results[\"test_acc\"].append(test_acc)\n",
        "\n",
        "    # Return the filled results at the end of the epochs\n",
        "    return results"
      ]
    },
    {
      "cell_type": "code",
      "execution_count": null,
      "id": "6a8f7425-d490-468b-b908-2b03af1e8aec",
      "metadata": {
        "id": "6a8f7425-d490-468b-b908-2b03af1e8aec"
      },
      "outputs": [],
      "source": [
        "\"\"\"\n",
        "Contains various utility functions for PyTorch model training and saving.\n",
        "\"\"\"\n",
        "import torch\n",
        "from pathlib import Path\n",
        "\n",
        "def save_model(model: torch.nn.Module,\n",
        "               target_dir: str,\n",
        "               model_name: str):\n",
        "    \"\"\"Saves a PyTorch model to a target directory.\n",
        "\n",
        "    Args:\n",
        "    model: A target PyTorch model to save.\n",
        "    target_dir: A directory for saving the model to.\n",
        "    model_name: A filename for the saved model. Should include\n",
        "      either \".pth\" or \".pt\" as the file extension.\n",
        "\n",
        "    Example usage:\n",
        "    save_model(model=model_0,\n",
        "               target_dir=\"models\",\n",
        "               model_name=\"05_going_modular_tingvgg_model.pth\")\n",
        "    \"\"\"\n",
        "    # Create target directory\n",
        "    target_dir_path = Path(target_dir)\n",
        "    target_dir_path.mkdir(parents=True,\n",
        "                        exist_ok=True)\n",
        "\n",
        "    # Create model save path\n",
        "    assert model_name.endswith(\".pth\") or model_name.endswith(\".pt\"), \"model_name should end with '.pt' or '.pth'\"\n",
        "    model_save_path = target_dir_path / model_name\n",
        "\n",
        "    # Save the model state_dict()\n",
        "    print(f\"[INFO] Saving model to: {model_save_path}\")\n",
        "    torch.save(obj=model.state_dict(),\n",
        "             f=model_save_path)"
      ]
    },
    {
      "cell_type": "code",
      "execution_count": null,
      "id": "daa87536-2317-4c51-bdac-f098f23a0ff0",
      "metadata": {
        "id": "daa87536-2317-4c51-bdac-f098f23a0ff0"
      },
      "outputs": [],
      "source": [
        "\"\"\"\n",
        "A series of helper functions used throughout the course.\n",
        "\n",
        "If a function gets defined once and could be used over and over, it'll go in here.\n",
        "\"\"\"\n",
        "import torch\n",
        "import matplotlib.pyplot as plt\n",
        "import numpy as np\n",
        "\n",
        "from torch import nn\n",
        "\n",
        "import os\n",
        "import zipfile\n",
        "\n",
        "from pathlib import Path\n",
        "\n",
        "import requests\n",
        "\n",
        "# Walk through an image classification directory and find out how many files (images)\n",
        "# are in each subdirectory.\n",
        "import os\n",
        "\n",
        "def walk_through_dir(dir_path):\n",
        "    \"\"\"\n",
        "    Walks through dir_path returning its contents.\n",
        "    Args:\n",
        "    dir_path (str): target directory\n",
        "\n",
        "    Returns:\n",
        "    A print out of:\n",
        "      number of subdiretories in dir_path\n",
        "      number of images (files) in each subdirectory\n",
        "      name of each subdirectory\n",
        "    \"\"\"\n",
        "    for dirpath, dirnames, filenames in os.walk(dir_path):\n",
        "        print(f\"There are {len(dirnames)} directories and {len(filenames)} images in '{dirpath}'.\")\n",
        "\n",
        "def plot_decision_boundary(model: torch.nn.Module, X: torch.Tensor, y: torch.Tensor):\n",
        "    \"\"\"Plots decision boundaries of model predicting on X in comparison to y.\n",
        "\n",
        "    Source - https://madewithml.com/courses/foundations/neural-networks/ (with modifications)\n",
        "    \"\"\"\n",
        "    # Put everything to CPU (works better with NumPy + Matplotlib)\n",
        "    model.to(\"cpu\")\n",
        "    X, y = X.to(\"cpu\"), y.to(\"cpu\")\n",
        "\n",
        "    # Setup prediction boundaries and grid\n",
        "    x_min, x_max = X[:, 0].min() - 0.1, X[:, 0].max() + 0.1\n",
        "    y_min, y_max = X[:, 1].min() - 0.1, X[:, 1].max() + 0.1\n",
        "    xx, yy = np.meshgrid(np.linspace(x_min, x_max, 101), np.linspace(y_min, y_max, 101))\n",
        "\n",
        "    # Make features\n",
        "    X_to_pred_on = torch.from_numpy(np.column_stack((xx.ravel(), yy.ravel()))).float()\n",
        "\n",
        "    # Make predictions\n",
        "    model.eval()\n",
        "    with torch.inference_mode():\n",
        "        y_logits = model(X_to_pred_on)\n",
        "\n",
        "    # Test for multi-class or binary and adjust logits to prediction labels\n",
        "    if len(torch.unique(y)) > 2:\n",
        "        y_pred = torch.softmax(y_logits, dim=1).argmax(dim=1)  # mutli-class\n",
        "    else:\n",
        "        y_pred = torch.round(torch.sigmoid(y_logits))  # binary\n",
        "\n",
        "    # Reshape preds and plot\n",
        "    y_pred = y_pred.reshape(xx.shape).detach().numpy()\n",
        "    plt.contourf(xx, yy, y_pred, cmap=plt.cm.RdYlBu, alpha=0.7)\n",
        "    plt.scatter(X[:, 0], X[:, 1], c=y, s=40, cmap=plt.cm.RdYlBu)\n",
        "    plt.xlim(xx.min(), xx.max())\n",
        "    plt.ylim(yy.min(), yy.max())\n",
        "\n",
        "\n",
        "# Plot linear data or training and test and predictions (optional)\n",
        "def plot_predictions(\n",
        "    train_data, train_labels, test_data, test_labels, predictions=None\n",
        "):\n",
        "    \"\"\"\n",
        "  Plots linear training data and test data and compares predictions.\n",
        "  \"\"\"\n",
        "    plt.figure(figsize=(10, 7))\n",
        "\n",
        "    # Plot training data in blue\n",
        "    plt.scatter(train_data, train_labels, c=\"b\", s=4, label=\"Training data\")\n",
        "\n",
        "    # Plot test data in green\n",
        "    plt.scatter(test_data, test_labels, c=\"g\", s=4, label=\"Testing data\")\n",
        "\n",
        "    if predictions is not None:\n",
        "        # Plot the predictions in red (predictions were made on the test data)\n",
        "        plt.scatter(test_data, predictions, c=\"r\", s=4, label=\"Predictions\")\n",
        "\n",
        "    # Show the legend\n",
        "    plt.legend(prop={\"size\": 14})\n",
        "\n",
        "\n",
        "# Calculate accuracy (a classification metric)\n",
        "def accuracy_fn(y_true, y_pred):\n",
        "    \"\"\"Calculates accuracy between truth labels and predictions.\n",
        "\n",
        "    Args:\n",
        "        y_true (torch.Tensor): Truth labels for predictions.\n",
        "        y_pred (torch.Tensor): Predictions to be compared to predictions.\n",
        "\n",
        "    Returns:\n",
        "        [torch.float]: Accuracy value between y_true and y_pred, e.g. 78.45\n",
        "    \"\"\"\n",
        "    correct = torch.eq(y_true, y_pred).sum().item()\n",
        "    acc = (correct / len(y_pred)) * 100\n",
        "    return acc\n",
        "\n",
        "\n",
        "def print_train_time(start, end, device=None):\n",
        "    \"\"\"Prints difference between start and end time.\n",
        "\n",
        "    Args:\n",
        "        start (float): Start time of computation (preferred in timeit format).\n",
        "        end (float): End time of computation.\n",
        "        device ([type], optional): Device that compute is running on. Defaults to None.\n",
        "\n",
        "    Returns:\n",
        "        float: time between start and end in seconds (higher is longer).\n",
        "    \"\"\"\n",
        "    total_time = end - start\n",
        "    print(f\"\\nTrain time on {device}: {total_time:.3f} seconds\")\n",
        "    return total_time\n",
        "\n",
        "\n",
        "# Plot loss curves of a model\n",
        "def plot_loss_curves(results):\n",
        "    \"\"\"Plots training curves of a results dictionary.\n",
        "\n",
        "    Args:\n",
        "        results (dict): dictionary containing list of values, e.g.\n",
        "            {\"train_loss\": [...],\n",
        "             \"train_acc\": [...],\n",
        "             \"test_loss\": [...],\n",
        "             \"test_acc\": [...]}\n",
        "    \"\"\"\n",
        "    loss = results[\"train_loss\"]\n",
        "    test_loss = results[\"test_loss\"]\n",
        "\n",
        "    accuracy = results[\"train_acc\"]\n",
        "    test_accuracy = results[\"test_acc\"]\n",
        "\n",
        "    epochs = range(len(results[\"train_loss\"]))\n",
        "\n",
        "    plt.figure(figsize=(15, 7))\n",
        "\n",
        "    # Plot loss\n",
        "    plt.subplot(1, 2, 1)\n",
        "    plt.plot(epochs, loss, label=\"train_loss\")\n",
        "    plt.plot(epochs, test_loss, label=\"test_loss\")\n",
        "    plt.title(\"Loss\")\n",
        "    plt.xlabel(\"Epochs\")\n",
        "    plt.legend()\n",
        "\n",
        "    # Plot accuracy\n",
        "    plt.subplot(1, 2, 2)\n",
        "    plt.plot(epochs, accuracy, label=\"train_accuracy\")\n",
        "    plt.plot(epochs, test_accuracy, label=\"test_accuracy\")\n",
        "    plt.title(\"Accuracy\")\n",
        "    plt.xlabel(\"Epochs\")\n",
        "    plt.legend()\n",
        "\n",
        "\n",
        "# Pred and plot image function from notebook 04\n",
        "# See creation: https://www.learnpytorch.io/04_pytorch_custom_datasets/#113-putting-custom-image-prediction-together-building-a-function\n",
        "from typing import List\n",
        "import torchvision\n",
        "\n",
        "\n",
        "def pred_and_plot_image(\n",
        "    model: torch.nn.Module,\n",
        "    image_path: str,\n",
        "    class_names: List[str] = None,\n",
        "    transform=None,\n",
        "    device: torch.device = \"cuda\" if torch.cuda.is_available() else \"cpu\",\n",
        "):\n",
        "    \"\"\"Makes a prediction on a target image with a trained model and plots the image.\n",
        "\n",
        "    Args:\n",
        "        model (torch.nn.Module): trained PyTorch image classification model.\n",
        "        image_path (str): filepath to target image.\n",
        "        class_names (List[str], optional): different class names for target image. Defaults to None.\n",
        "        transform (_type_, optional): transform of target image. Defaults to None.\n",
        "        device (torch.device, optional): target device to compute on. Defaults to \"cuda\" if torch.cuda.is_available() else \"cpu\".\n",
        "\n",
        "    Returns:\n",
        "        Matplotlib plot of target image and model prediction as title.\n",
        "\n",
        "    Example usage:\n",
        "        pred_and_plot_image(model=model,\n",
        "                            image=\"some_image.jpeg\",\n",
        "                            class_names=[\"class_1\", \"class_2\", \"class_3\"],\n",
        "                            transform=torchvision.transforms.ToTensor(),\n",
        "                            device=device)\n",
        "    \"\"\"\n",
        "\n",
        "    # 1. Load in image and convert the tensor values to float32\n",
        "    target_image = torchvision.io.read_image(str(image_path)).type(torch.float32)\n",
        "\n",
        "    # 2. Divide the image pixel values by 255 to get them between [0, 1]\n",
        "    target_image = target_image / 255.0\n",
        "\n",
        "    # 3. Transform if necessary\n",
        "    if transform:\n",
        "        target_image = transform(target_image)\n",
        "\n",
        "    # 4. Make sure the model is on the target device\n",
        "    model.to(device)\n",
        "\n",
        "    # 5. Turn on model evaluation mode and inference mode\n",
        "    model.eval()\n",
        "    with torch.inference_mode():\n",
        "        # Add an extra dimension to the image\n",
        "        target_image = target_image.unsqueeze(dim=0)\n",
        "\n",
        "        # Make a prediction on image with an extra dimension and send it to the target device\n",
        "        target_image_pred = model(target_image.to(device))\n",
        "\n",
        "    # 6. Convert logits -> prediction probabilities (using torch.softmax() for multi-class classification)\n",
        "    target_image_pred_probs = torch.softmax(target_image_pred, dim=1)\n",
        "\n",
        "    # 7. Convert prediction probabilities -> prediction labels\n",
        "    target_image_pred_label = torch.argmax(target_image_pred_probs, dim=1)\n",
        "\n",
        "    # 8. Plot the image alongside the prediction and prediction probability\n",
        "    plt.imshow(\n",
        "        target_image.squeeze().permute(1, 2, 0)\n",
        "    )  # make sure it's the right size for matplotlib\n",
        "    if class_names:\n",
        "        title = f\"Pred: {class_names[target_image_pred_label.cpu()]} | Prob: {target_image_pred_probs.max().cpu():.3f}\"\n",
        "    else:\n",
        "        title = f\"Pred: {target_image_pred_label} | Prob: {target_image_pred_probs.max().cpu():.3f}\"\n",
        "    plt.title(title)\n",
        "    plt.axis(False)\n",
        "\n",
        "def set_seeds(seed: int=42):\n",
        "    \"\"\"Sets random sets for torch operations.\n",
        "\n",
        "    Args:\n",
        "        seed (int, optional): Random seed to set. Defaults to 42.\n",
        "    \"\"\"\n",
        "    # Set the seed for general torch operations\n",
        "    torch.manual_seed(seed)\n",
        "    # Set the seed for CUDA torch operations (ones that happen on the GPU)\n",
        "    torch.cuda.manual_seed(seed)\n",
        "\n",
        "def download_data(source: str,\n",
        "                  destination: str,\n",
        "                  remove_source: bool = True) -> Path:\n",
        "    \"\"\"Downloads a zipped dataset from source and unzips to destination.\n",
        "\n",
        "    Args:\n",
        "        source (str): A link to a zipped file containing data.\n",
        "        destination (str): A target directory to unzip data to.\n",
        "        remove_source (bool): Whether to remove the source after downloading and extracting.\n",
        "\n",
        "    Returns:\n",
        "        pathlib.Path to downloaded data.\n",
        "\n",
        "    Example usage:\n",
        "        download_data(source=\"https://github.com/mrdbourke/pytorch-deep-learning/raw/main/data/pizza_steak_sushi.zip\",\n",
        "                      destination=\"pizza_steak_sushi\")\n",
        "    \"\"\"\n",
        "    # Setup path to data folder\n",
        "    data_path = Path(\"data/\")\n",
        "    image_path = data_path / destination\n",
        "\n",
        "    # If the image folder doesn't exist, download it and prepare it...\n",
        "    if image_path.is_dir():\n",
        "        print(f\"[INFO] {image_path} directory exists, skipping download.\")\n",
        "    else:\n",
        "        print(f\"[INFO] Did not find {image_path} directory, creating one...\")\n",
        "        image_path.mkdir(parents=True, exist_ok=True)\n",
        "\n",
        "        # Download pizza, steak, sushi data\n",
        "        target_file = Path(source).name\n",
        "        with open(data_path / target_file, \"wb\") as f:\n",
        "            request = requests.get(source)\n",
        "            print(f\"[INFO] Downloading {target_file} from {source}...\")\n",
        "            f.write(request.content)\n",
        "\n",
        "        # Unzip pizza, steak, sushi data\n",
        "        with zipfile.ZipFile(data_path / target_file, \"r\") as zip_ref:\n",
        "            print(f\"[INFO] Unzipping {target_file} data...\")\n",
        "            zip_ref.extractall(image_path)\n",
        "\n",
        "        # Remove .zip file\n",
        "        if remove_source:\n",
        "            os.remove(data_path / target_file)\n",
        "\n",
        "    return image_path"
      ]
    },
    {
      "cell_type": "code",
      "execution_count": null,
      "id": "5e246f92-e509-474e-b6c7-c82cf11cb8ca",
      "metadata": {
        "id": "5e246f92-e509-474e-b6c7-c82cf11cb8ca",
        "outputId": "d9c6ce27-976b-4856-9e0a-4591a1d0589a",
        "colab": {
          "base_uri": "https://localhost:8080/",
          "height": 35
        }
      },
      "outputs": [
        {
          "output_type": "execute_result",
          "data": {
            "text/plain": [
              "'cuda'"
            ],
            "application/vnd.google.colaboratory.intrinsic+json": {
              "type": "string"
            }
          },
          "metadata": {},
          "execution_count": 7
        }
      ],
      "source": [
        "device = \"cuda\" if torch.cuda.is_available() else \"cpu\"\n",
        "device"
      ]
    },
    {
      "cell_type": "code",
      "execution_count": null,
      "id": "7336d3fb-8fc0-4f1e-902c-46591bb4be8f",
      "metadata": {
        "id": "7336d3fb-8fc0-4f1e-902c-46591bb4be8f"
      },
      "outputs": [],
      "source": [
        "# What i first tried was to actually not use the cifar dataset in the torchvision datasets library and make download it from the official cifar-10 repo but unpickling it was way too much of a hassle\n",
        "\n",
        "def unpickle(file):\n",
        "    import pickle\n",
        "    with open(file, 'rb') as fo:\n",
        "        dict = pickle.load(fo, encoding='bytes')\n",
        "    return dict"
      ]
    },
    {
      "cell_type": "code",
      "execution_count": null,
      "id": "37b5ffc0-7093-481e-8081-dbdfac4c24f0",
      "metadata": {
        "id": "37b5ffc0-7093-481e-8081-dbdfac4c24f0",
        "outputId": "4b888a11-1b07-4f77-e757-77b46bb4a2da",
        "colab": {
          "base_uri": "https://localhost:8080/"
        }
      },
      "outputs": [
        {
          "output_type": "stream",
          "name": "stdout",
          "text": [
            "Downloading https://www.cs.toronto.edu/~kriz/cifar-10-python.tar.gz to ./data/cifar-10-python.tar.gz\n"
          ]
        },
        {
          "output_type": "stream",
          "name": "stderr",
          "text": [
            "100%|██████████| 170M/170M [00:03<00:00, 42.8MB/s]\n"
          ]
        },
        {
          "output_type": "stream",
          "name": "stdout",
          "text": [
            "Extracting ./data/cifar-10-python.tar.gz to ./data\n",
            "Files already downloaded and verified\n"
          ]
        }
      ],
      "source": [
        "import torchvision\n",
        "\n",
        "# Download training data\n",
        "trainset = torchvision.datasets.CIFAR10(root='./data', train=True,\n",
        "                                      download=True)\n",
        "\n",
        "# Download test data\n",
        "testset = torchvision.datasets.CIFAR10(root='./data', train=False,\n",
        "                                     download=True)"
      ]
    },
    {
      "cell_type": "markdown",
      "id": "55a047b1-9f12-4dcf-8d97-83b7cbb37392",
      "metadata": {
        "id": "55a047b1-9f12-4dcf-8d97-83b7cbb37392"
      },
      "source": [
        "Beautiful! Data downloaded, let's setup the training and test directories."
      ]
    },
    {
      "cell_type": "markdown",
      "id": "d6fce58f-0f0b-48ef-a9b6-1ef3ca09380d",
      "metadata": {
        "id": "d6fce58f-0f0b-48ef-a9b6-1ef3ca09380d"
      },
      "source": [
        "## 2. Create Datasets and DataLoaders\n",
        "\n",
        "\n",
        "\n",
        "In Table 3, the training resolution is mentioned as being 224 (height=224, width=224), but as the cifar-10 dataset uses 32x32 images, augmenting then to 224x 224 may introduce unexpected behaviours so in the final implementation i decided to just go with 32 x 32 res\n",
        "\n",
        "\n",
        "\n",
        "\n",
        "\n",
        "\n",
        "\n",
        "And since I'll be training my model from scratch (no transfer learning to begin with), I technically shouldnt  provide a `normalize` transform but at the end i decided to normalize the dataset as it resulted in a substatial leap in perf\n",
        "\n",
        "### 2.1 Prepare transforms for images"
      ]
    },
    {
      "cell_type": "code",
      "execution_count": null,
      "id": "a45ea650-c3fa-479c-8767-48bc3a1f1267",
      "metadata": {
        "id": "a45ea650-c3fa-479c-8767-48bc3a1f1267",
        "colab": {
          "base_uri": "https://localhost:8080/"
        },
        "outputId": "e8dda384-0942-4522-ebb2-20742497c9df"
      },
      "outputs": [
        {
          "output_type": "stream",
          "name": "stdout",
          "text": [
            "Manually created transforms: Compose(\n",
            "    RandomCrop(size=(32, 32), padding=4)\n",
            "    RandomHorizontalFlip(p=0.5)\n",
            "    ToTensor()\n",
            "    Normalize(mean=[0.4914, 0.4822, 0.4465], std=[0.2023, 0.1994, 0.201])\n",
            ")\n"
          ]
        }
      ],
      "source": [
        "# Create image size (from Table 3 in the ViT paper)\n",
        "IMG_SIZE = 32\n",
        "\n",
        "manual_transforms = transforms.Compose([\n",
        "    #transforms.Resize((IMG_SIZE, IMG_SIZE)),\n",
        "    transforms.RandomCrop(32, padding=4),\n",
        "    transforms.RandomHorizontalFlip(),\n",
        "    transforms.ToTensor(),\n",
        "    transforms.Normalize(mean=[0.4914, 0.4822, 0.4465], std=[0.2023, 0.1994, 0.2010]) # standard values for cifar-10 dataset\n",
        "\n",
        "])\n",
        "print(f\"Manually created transforms: {manual_transforms}\")"
      ]
    },
    {
      "cell_type": "code",
      "execution_count": null,
      "id": "92a426b6-df22-4a58-9d5e-b382c73c6048",
      "metadata": {
        "id": "92a426b6-df22-4a58-9d5e-b382c73c6048"
      },
      "outputs": [],
      "source": [
        "# Setup directory paths to train and test images\n",
        "train_dir = trainset\n",
        "test_dir = testset"
      ]
    },
    {
      "cell_type": "markdown",
      "id": "437078c2-eb42-471f-8561-94845d0a878d",
      "metadata": {
        "id": "437078c2-eb42-471f-8561-94845d0a878d"
      },
      "source": [
        "### 2.2 Turn images into `DataLoader`'s\n",
        "\n",
        "\n",
        "The ViT paper states the use of a batch size of 4096 which is 128x the size of the batch size I've been using (32) because of the GPU VRAM limitations on my machine.\n",
        "\n",
        "Im using `pin_memory = True` although cifar-10 is not the biggest of datasets, i still believe the pros almost always outweigh the cons\n",
        "\n",
        "\n",
        "\n",
        "\n"
      ]
    },
    {
      "cell_type": "code",
      "execution_count": null,
      "id": "d0ac8145-f89a-490f-82e3-d4b22225d163",
      "metadata": {
        "id": "d0ac8145-f89a-490f-82e3-d4b22225d163",
        "outputId": "7928d7cb-1502-4c68-d6e3-8796e03f93b6",
        "colab": {
          "base_uri": "https://localhost:8080/"
        }
      },
      "outputs": [
        {
          "output_type": "execute_result",
          "data": {
            "text/plain": [
              "(<torch.utils.data.dataloader.DataLoader at 0x7a3a582e67d0>,\n",
              " <torch.utils.data.dataloader.DataLoader at 0x7a3a5830db50>,\n",
              " ['airplane',\n",
              "  'automobile',\n",
              "  'bird',\n",
              "  'cat',\n",
              "  'deer',\n",
              "  'dog',\n",
              "  'frog',\n",
              "  'horse',\n",
              "  'ship',\n",
              "  'truck'])"
            ]
          },
          "metadata": {},
          "execution_count": 12
        }
      ],
      "source": [
        "# Set the batch size\n",
        "BATCH_SIZE = 32# this is lower than the ViT paper\n",
        "\n",
        "# Create data loaders\n",
        "train_dataloader, test_dataloader, class_names = create_dataloaders(\n",
        "    train_data=train_dir,\n",
        "    test_data=test_dir,\n",
        "    transform=manual_transforms, # use manually created transforms\n",
        "    batch_size=BATCH_SIZE\n",
        ")\n",
        "\n",
        "train_dataloader, test_dataloader, class_names"
      ]
    },
    {
      "cell_type": "markdown",
      "id": "4a980a5b-0c3b-440d-87f5-c54f1ab143ab",
      "metadata": {
        "id": "4a980a5b-0c3b-440d-87f5-c54f1ab143ab"
      },
      "source": [
        "### 2.3 Visualize a single image\n",
        "\n",
        "\n",
        "\n"
      ]
    },
    {
      "cell_type": "code",
      "execution_count": null,
      "id": "b5734a22-ded5-403e-84f5-d7a90ed3f085",
      "metadata": {
        "id": "b5734a22-ded5-403e-84f5-d7a90ed3f085",
        "outputId": "9c89c783-7a76-458e-ad40-07ab7fc868b5",
        "colab": {
          "base_uri": "https://localhost:8080/"
        }
      },
      "outputs": [
        {
          "output_type": "execute_result",
          "data": {
            "text/plain": [
              "(torch.Size([3, 32, 32]), tensor(5))"
            ]
          },
          "metadata": {},
          "execution_count": 13
        }
      ],
      "source": [
        "# Get a batch of images\n",
        "image_batch, label_batch = next(iter(train_dataloader))\n",
        "\n",
        "# Get a single image from the batch\n",
        "image, label = image_batch[0], label_batch[0]\n",
        "\n",
        "# View the batch shapes\n",
        "image.shape, label"
      ]
    },
    {
      "cell_type": "code",
      "execution_count": null,
      "id": "afe85fae-38fd-4f34-a52c-29d02cce09c1",
      "metadata": {
        "id": "afe85fae-38fd-4f34-a52c-29d02cce09c1",
        "colab": {
          "base_uri": "https://localhost:8080/",
          "height": 465
        },
        "outputId": "07701256-fe7a-43fa-bb31-c641dd1f24b0"
      },
      "outputs": [
        {
          "output_type": "stream",
          "name": "stderr",
          "text": [
            "WARNING:matplotlib.image:Clipping input data to the valid range for imshow with RGB data ([0..1] for floats or [0..255] for integers). Got range [-2.4290657..2.3590088].\n"
          ]
        },
        {
          "output_type": "display_data",
          "data": {
            "text/plain": [
              "<Figure size 640x480 with 1 Axes>"
            ],
            "image/png": "[encoded data removed]"
          },
          "metadata": {}
        }
      ],
      "source": [
        "\n",
        "# Plot image with matplotlib\n",
        "plt.imshow(image.permute(1, 2, 0)) # rearrange image dimensions to suit matplotlib [color_channels, height, width] -> [height, width, color_channels]\n",
        "plt.title(class_names[label])\n",
        "plt.axis(False);\n",
        "\n",
        "## I know matplotlib is not exactly happy about being passed in normalized images but im too lazy to fix it plus it doesnt actually matter for the actual model training"
      ]
    },
    {
      "cell_type": "markdown",
      "id": "4c90c4c0-0039-4790-a25b-f14754e6b468",
      "metadata": {
        "id": "4c90c4c0-0039-4790-a25b-f14754e6b468"
      },
      "source": [
        "#### 3.2.1 Figure 1\n",
        "\n",
        "\n",
        "\n",
        "<img src=\"https://raw.githubusercontent.com/mrdbourke/pytorch-deep-learning/main/images/08-vit-paper-figure-1-inputs-and-outputs.png\" width=900 alt=\"figure 1 from the original vision transformer paper\"/>\n",
        "\n",
        "\n",
        "\n",
        "The ViT architecture is comprised of several stages:\n",
        "* **Patch + Position Embedding (inputs)** - Turns the input image into a sequence of image patches and adds a position number to specify in what order the patch comes in.\n",
        "* **Linear projection of flattened patches (Embedded Patches)** - The image patches get turned into an **embedding**, the benefit of using an embedding rather than just the image values is that an embedding is a *learnable* representation (typically in the form of a vector) of the image that can improve with training.\n",
        "* **Norm** - This is short for \"[Layer Normalization](https://paperswithcode.com/method/layer-normalization)\" or \"LayerNorm\", a technique for regularizing (reducing overfitting) a neural network, you can use LayerNorm via the PyTorch layer [`torch.nn.LayerNorm()`](https://pytorch.org/docs/stable/generated/torch.nn.LayerNorm.html).\n",
        "* **Multi-Head Attention** - This is a [Multi-Headed Self-Attention layer](https://paperswithcode.com/method/multi-head-attention) or \"MSA\" for short. You can create an MSA layer via the PyTorch layer [`torch.nn.MultiheadAttention()`](https://pytorch.org/docs/stable/generated/torch.nn.MultiheadAttention.html).\n",
        "* **MLP (or [Multilayer perceptron](https://en.wikipedia.org/wiki/Multilayer_perceptron))** - A MLP can often refer to any collection of feedforward layers (or in PyTorch's case, a collection of layers with a `forward()` method). In the ViT Paper, the authors refer to the MLP as \"MLP block\" and it contains two [`torch.nn.Linear()`](https://pytorch.org/docs/stable/generated/torch.nn.Linear.html) layers with a [`torch.nn.GELU()`](https://pytorch.org/docs/stable/generated/torch.nn.GELU.html) non-linearity activation in between them (section 3.1) and a [`torch.nn.Dropout()`](https://pytorch.org/docs/stable/generated/torch.nn.Dropout.html) layer after each (Appendix B.1).\n",
        "* **Transformer Encoder** - The Transformer Encoder, is a collection of the layers listed above. There are two skip connections inside the Transformer encoder (the \"+\" symbols) meaning the layer's inputs are fed directly to immediate layers as well as subsequent layers. The overall ViT architecture is comprised of a number of Transformer encoders stacked on top of eachother.\n",
        "* **MLP Head** - This is the output layer of the architecture, it converts the learned features of an input to a class output. Since we're working on image classification, you could also call this the \"classifier head\". The structure of the MLP Head is similar to the MLP block.\n",
        "\n",
        "###Note:\n",
        "The above textual explaination is not my intellectual property. It has just been added to give the reader some context of what I am tryna rebuild\n",
        "\n"
      ]
    },
    {
      "cell_type": "markdown",
      "id": "7ee6c9bf-e40f-4511-9325-498251f5b998",
      "metadata": {
        "id": "7ee6c9bf-e40f-4511-9325-498251f5b998"
      },
      "source": [
        "### 4.2 Turning a image into patches\n",
        "\n"
      ]
    },
    {
      "cell_type": "code",
      "execution_count": null,
      "id": "336e1b36-9849-4104-8cb9-bb64a20ffc48",
      "metadata": {
        "id": "336e1b36-9849-4104-8cb9-bb64a20ffc48",
        "outputId": "5f079f4f-2dc8-426e-fe7c-60bced79e5f5",
        "colab": {
          "base_uri": "https://localhost:8080/",
          "height": 465
        }
      },
      "outputs": [
        {
          "output_type": "stream",
          "name": "stderr",
          "text": [
            "WARNING:matplotlib.image:Clipping input data to the valid range for imshow with RGB data ([0..1] for floats or [0..255] for integers). Got range [-2.4290657..2.3590088].\n"
          ]
        },
        {
          "output_type": "display_data",
          "data": {
            "text/plain": [
              "<Figure size 640x480 with 1 Axes>"
            ],
            "image/png": "[encoded data removed]"
          },
          "metadata": {}
        }
      ],
      "source": [
        "# View single image\n",
        "plt.imshow(image.permute(1, 2, 0)) # adjust for matplotlib\n",
        "plt.title(class_names[label])\n",
        "plt.axis(False);"
      ]
    },
    {
      "cell_type": "code",
      "execution_count": null,
      "id": "bcd2e784-7989-40e5-b8f5-64de18f1fe3d",
      "metadata": {
        "id": "bcd2e784-7989-40e5-b8f5-64de18f1fe3d",
        "outputId": "3fd196fe-fb34-4c76-9632-5d92de0b04aa",
        "colab": {
          "base_uri": "https://localhost:8080/",
          "height": 650
        }
      },
      "outputs": [
        {
          "output_type": "stream",
          "name": "stderr",
          "text": [
            "WARNING:matplotlib.image:Clipping input data to the valid range for imshow with RGB data ([0..1] for floats or [0..255] for integers). Got range [-2.4290657..2.3590088].\n"
          ]
        },
        {
          "output_type": "display_data",
          "data": {
            "text/plain": [
              "<Figure size 1600x1600 with 1 Axes>"
            ],
            "image/png": "[encoded data removed]"
          },
          "metadata": {}
        }
      ],
      "source": [
        "# Change image shape to be compatible with matplotlib (color_channels, height, width) -> (height, width, color_channels)\n",
        "image_permuted = image.permute(1, 2, 0)\n",
        "\n",
        "# Index to plot the top row of patched pixels\n",
        "patch_size = 16\n",
        "plt.figure(figsize=(patch_size, patch_size))\n",
        "plt.imshow(image_permuted[:patch_size, :, :]);"
      ]
    },
    {
      "cell_type": "code",
      "execution_count": null,
      "id": "7d45e15a-eb50-4c46-8055-2acaaacb881c",
      "metadata": {
        "id": "7d45e15a-eb50-4c46-8055-2acaaacb881c",
        "outputId": "76c3596a-89d7-4608-cffe-315d57e5ec40",
        "tags": [],
        "colab": {
          "base_uri": "https://localhost:8080/",
          "height": 1000
        }
      },
      "outputs": [
        {
          "output_type": "stream",
          "name": "stdout",
          "text": [
            "Number of patches per row: 8.0        \n",
            "Number of patches per column: 8.0        \n",
            "Total patches: 64.0        \n",
            "Patch size: 4 pixels x 4 pixels\n"
          ]
        },
        {
          "output_type": "stream",
          "name": "stderr",
          "text": [
            "WARNING:matplotlib.image:Clipping input data to the valid range for imshow with RGB data ([0..1] for floats or [0..255] for integers). Got range [-2.4290657..0.32359254].\n",
            "WARNING:matplotlib.image:Clipping input data to the valid range for imshow with RGB data ([0..1] for floats or [0..255] for integers). Got range [-2.4290657..-0.89765733].\n",
            "WARNING:matplotlib.image:Clipping input data to the valid range for imshow with RGB data ([0..1] for floats or [0..255] for integers). Got range [-2.4290657..-1.3047407].\n",
            "WARNING:matplotlib.image:Clipping input data to the valid range for imshow with RGB data ([0..1] for floats or [0..255] for integers). Got range [-2.4290657..-1.925058].\n",
            "WARNING:matplotlib.image:Clipping input data to the valid range for imshow with RGB data ([0..1] for floats or [0..255] for integers). Got range [-2.4290657..-0.5293439].\n",
            "WARNING:matplotlib.image:Clipping input data to the valid range for imshow with RGB data ([0..1] for floats or [0..255] for integers). Got range [-2.4290657..-1.8862882].\n",
            "WARNING:matplotlib.image:Clipping input data to the valid range for imshow with RGB data ([0..1] for floats or [0..255] for integers). Got range [-2.4290657..-2.1823723].\n",
            "WARNING:matplotlib.image:Clipping input data to the valid range for imshow with RGB data ([0..1] for floats or [0..255] for integers). Got range [-2.4290657..-2.221393].\n",
            "WARNING:matplotlib.image:Clipping input data to the valid range for imshow with RGB data ([0..1] for floats or [0..255] for integers). Got range [-2.084821..1.8550009].\n",
            "WARNING:matplotlib.image:Clipping input data to the valid range for imshow with RGB data ([0..1] for floats or [0..255] for integers). Got range [-2.2018826..1.8743858].\n",
            "WARNING:matplotlib.image:Clipping input data to the valid range for imshow with RGB data ([0..1] for floats or [0..255] for integers). Got range [-2.1823723..1.6611518].\n",
            "WARNING:matplotlib.image:Clipping input data to the valid range for imshow with RGB data ([0..1] for floats or [0..255] for integers). Got range [-2.221393..-1.1496612].\n",
            "WARNING:matplotlib.image:Clipping input data to the valid range for imshow with RGB data ([0..1] for floats or [0..255] for integers). Got range [-2.221393..2.0876198].\n",
            "WARNING:matplotlib.image:Clipping input data to the valid range for imshow with RGB data ([0..1] for floats or [0..255] for integers). Got range [-2.3002539..1.9325405].\n",
            "WARNING:matplotlib.image:Clipping input data to the valid range for imshow with RGB data ([0..1] for floats or [0..255] for integers). Got range [-2.4182549..0.110358454].\n",
            "WARNING:matplotlib.image:Clipping input data to the valid range for imshow with RGB data ([0..1] for floats or [0..255] for integers). Got range [-2.4290657..-2.221393].\n",
            "WARNING:matplotlib.image:Clipping input data to the valid range for imshow with RGB data ([0..1] for floats or [0..255] for integers). Got range [-1.9677593..1.7774612].\n",
            "WARNING:matplotlib.image:Clipping input data to the valid range for imshow with RGB data ([0..1] for floats or [0..255] for integers). Got range [-2.084821..1.7580763].\n",
            "WARNING:matplotlib.image:Clipping input data to the valid range for imshow with RGB data ([0..1] for floats or [0..255] for integers). Got range [-1.2458785..2.0294652].\n",
            "WARNING:matplotlib.image:Clipping input data to the valid range for imshow with RGB data ([0..1] for floats or [0..255] for integers). Got range [-2.221393..2.04885].\n",
            "WARNING:matplotlib.image:Clipping input data to the valid range for imshow with RGB data ([0..1] for floats or [0..255] for integers). Got range [-1.148327..2.262084].\n",
            "WARNING:matplotlib.image:Clipping input data to the valid range for imshow with RGB data ([0..1] for floats or [0..255] for integers). Got range [1.1733978..2.3590088].\n",
            "WARNING:matplotlib.image:Clipping input data to the valid range for imshow with RGB data ([0..1] for floats or [0..255] for integers). Got range [-2.221393..2.2233143].\n",
            "WARNING:matplotlib.image:Clipping input data to the valid range for imshow with RGB data ([0..1] for floats or [0..255] for integers). Got range [-2.4290657..-2.221393].\n",
            "WARNING:matplotlib.image:Clipping input data to the valid range for imshow with RGB data ([0..1] for floats or [0..255] for integers). Got range [-2.280587..-0.0059511834].\n",
            "WARNING:matplotlib.image:Clipping input data to the valid range for imshow with RGB data ([0..1] for floats or [0..255] for integers). Got range [-2.378921..0.88575506].\n",
            "WARNING:matplotlib.image:Clipping input data to the valid range for imshow with RGB data ([0..1] for floats or [0..255] for integers). Got range [-1.948249..1.9325405].\n",
            "WARNING:matplotlib.image:Clipping input data to the valid range for imshow with RGB data ([0..1] for floats or [0..255] for integers). Got range [-0.44595647..2.1845443].\n",
            "WARNING:matplotlib.image:Clipping input data to the valid range for imshow with RGB data ([0..1] for floats or [0..255] for integers). Got range [-1.5775534..1.8937707].\n",
            "WARNING:matplotlib.image:Clipping input data to the valid range for imshow with RGB data ([0..1] for floats or [0..255] for integers). Got range [1.2124183..2.1845443].\n",
            "WARNING:matplotlib.image:Clipping input data to the valid range for imshow with RGB data ([0..1] for floats or [0..255] for integers). Got range [-2.1823723..2.1845443].\n",
            "WARNING:matplotlib.image:Clipping input data to the valid range for imshow with RGB data ([0..1] for floats or [0..255] for integers). Got range [-2.4290657..-2.221393].\n",
            "WARNING:matplotlib.image:Clipping input data to the valid range for imshow with RGB data ([0..1] for floats or [0..255] for integers). Got range [-2.4182549..0.80821544].\n",
            "WARNING:matplotlib.image:Clipping input data to the valid range for imshow with RGB data ([0..1] for floats or [0..255] for integers). Got range [-2.4182549..1.1183741].\n",
            "WARNING:matplotlib.image:Clipping input data to the valid range for imshow with RGB data ([0..1] for floats or [0..255] for integers). Got range [-1.753146..1.2540685].\n",
            "WARNING:matplotlib.image:Clipping input data to the valid range for imshow with RGB data ([0..1] for floats or [0..255] for integers). Got range [-1.5970637..1.8550009].\n",
            "WARNING:matplotlib.image:Clipping input data to the valid range for imshow with RGB data ([0..1] for floats or [0..255] for integers). Got range [-1.6946151..1.1959138].\n",
            "WARNING:matplotlib.image:Clipping input data to the valid range for imshow with RGB data ([0..1] for floats or [0..255] for integers). Got range [0.17837283..2.04885].\n",
            "WARNING:matplotlib.image:Clipping input data to the valid range for imshow with RGB data ([0..1] for floats or [0..255] for integers). Got range [-1.4800019..2.1651595].\n",
            "WARNING:matplotlib.image:Clipping input data to the valid range for imshow with RGB data ([0..1] for floats or [0..255] for integers). Got range [-2.4290657..-2.221393].\n",
            "WARNING:matplotlib.image:Clipping input data to the valid range for imshow with RGB data ([0..1] for floats or [0..255] for integers). Got range [-1.2653887..0.73067576].\n",
            "WARNING:matplotlib.image:Clipping input data to the valid range for imshow with RGB data ([0..1] for floats or [0..255] for integers). Got range [-1.3434299..0.88575506].\n",
            "WARNING:matplotlib.image:Clipping input data to the valid range for imshow with RGB data ([0..1] for floats or [0..255] for integers). Got range [-1.0312653..1.1959138].\n",
            "WARNING:matplotlib.image:Clipping input data to the valid range for imshow with RGB data ([0..1] for floats or [0..255] for integers). Got range [-1.4800019..1.9325405].\n",
            "WARNING:matplotlib.image:Clipping input data to the valid range for imshow with RGB data ([0..1] for floats or [0..255] for integers). Got range [-2.1043313..0.7500607].\n",
            "WARNING:matplotlib.image:Clipping input data to the valid range for imshow with RGB data ([0..1] for floats or [0..255] for integers). Got range [-2.0458004..1.350993].\n",
            "WARNING:matplotlib.image:Clipping input data to the valid range for imshow with RGB data ([0..1] for floats or [0..255] for integers). Got range [-2.221393..1.6417668].\n",
            "WARNING:matplotlib.image:Clipping input data to the valid range for imshow with RGB data ([0..1] for floats or [0..255] for integers). Got range [-2.4290657..-2.221393].\n",
            "WARNING:matplotlib.image:Clipping input data to the valid range for imshow with RGB data ([0..1] for floats or [0..255] for integers). Got range [-2.1238415..0.16851321].\n",
            "WARNING:matplotlib.image:Clipping input data to the valid range for imshow with RGB data ([0..1] for floats or [0..255] for integers). Got range [-2.0458004..0.55621153].\n",
            "WARNING:matplotlib.image:Clipping input data to the valid range for imshow with RGB data ([0..1] for floats or [0..255] for integers). Got range [-1.889718..1.1959138].\n",
            "WARNING:matplotlib.image:Clipping input data to the valid range for imshow with RGB data ([0..1] for floats or [0..255] for integers). Got range [-1.2068578..1.5254573].\n",
            "WARNING:matplotlib.image:Clipping input data to the valid range for imshow with RGB data ([0..1] for floats or [0..255] for integers). Got range [-2.1043313..0.63375115].\n",
            "WARNING:matplotlib.image:Clipping input data to the valid range for imshow with RGB data ([0..1] for floats or [0..255] for integers). Got range [-2.00678..1.0408344].\n",
            "WARNING:matplotlib.image:Clipping input data to the valid range for imshow with RGB data ([0..1] for floats or [0..255] for integers). Got range [-2.2018826..1.1183741].\n",
            "WARNING:matplotlib.image:Clipping input data to the valid range for imshow with RGB data ([0..1] for floats or [0..255] for integers). Got range [-2.4290657..-2.221393].\n",
            "WARNING:matplotlib.image:Clipping input data to the valid range for imshow with RGB data ([0..1] for floats or [0..255] for integers). Got range [-2.162862..-0.8449072].\n",
            "WARNING:matplotlib.image:Clipping input data to the valid range for imshow with RGB data ([0..1] for floats or [0..255] for integers). Got range [-2.3709111..-0.8055735].\n",
            "WARNING:matplotlib.image:Clipping input data to the valid range for imshow with RGB data ([0..1] for floats or [0..255] for integers). Got range [-2.4182549..0.73067576].\n",
            "WARNING:matplotlib.image:Clipping input data to the valid range for imshow with RGB data ([0..1] for floats or [0..255] for integers). Got range [-1.9092283..1.0989891].\n",
            "WARNING:matplotlib.image:Clipping input data to the valid range for imshow with RGB data ([0..1] for floats or [0..255] for integers). Got range [-2.162862..0.6143663].\n",
            "WARNING:matplotlib.image:Clipping input data to the valid range for imshow with RGB data ([0..1] for floats or [0..255] for integers). Got range [-2.1823723..0.71129084].\n",
            "WARNING:matplotlib.image:Clipping input data to the valid range for imshow with RGB data ([0..1] for floats or [0..255] for integers). Got range [-2.1823723..-0.27456877].\n",
            "WARNING:matplotlib.image:Clipping input data to the valid range for imshow with RGB data ([0..1] for floats or [0..255] for integers). Got range [-2.4290657..-2.221393].\n"
          ]
        },
        {
          "output_type": "display_data",
          "data": {
            "text/plain": [
              "<Figure size 800x800 with 64 Axes>"
            ],
            "image/png": "[encoded data removed]"
          },
          "metadata": {}
        }
      ],
      "source": [
        "# Setup hyperparameters and make sure img_size and patch_size are compatible\n",
        "img_size = 32\n",
        "patch_size = 4\n",
        "num_patches = img_size/patch_size\n",
        "assert img_size % patch_size == 0, \"Image size must be divisible by patch size\"\n",
        "print(f\"Number of patches per row: {num_patches}\\\n",
        "        \\nNumber of patches per column: {num_patches}\\\n",
        "        \\nTotal patches: {num_patches*num_patches}\\\n",
        "        \\nPatch size: {patch_size} pixels x {patch_size} pixels\")\n",
        "\n",
        "# Create a series of subplots\n",
        "fig, axs = plt.subplots(nrows=img_size // patch_size, # need int not float\n",
        "                        ncols=img_size // patch_size,\n",
        "                        figsize=(num_patches, num_patches),\n",
        "                        sharex=True,\n",
        "                        sharey=True)\n",
        "\n",
        "# Loop through height and width of image\n",
        "for i, patch_height in enumerate(range(0, img_size, patch_size)): # iterate through height\n",
        "    for j, patch_width in enumerate(range(0, img_size, patch_size)): # iterate through width\n",
        "\n",
        "        # Plot the permuted image patch (image_permuted -> (Height, Width, Color Channels))\n",
        "        axs[i, j].imshow(image_permuted[patch_height:patch_height+patch_size, # iterate through height\n",
        "                                        patch_width:patch_width+patch_size, # iterate through width\n",
        "                                        :]) # get all color channels\n",
        "\n",
        "        # Set up label information, remove the ticks for clarity and set labels to outside\n",
        "        axs[i, j].set_ylabel(i+1,\n",
        "                             rotation=\"horizontal\",\n",
        "                             horizontalalignment=\"right\",\n",
        "                             verticalalignment=\"center\")\n",
        "        axs[i, j].set_xlabel(j+1)\n",
        "        axs[i, j].set_xticks([])\n",
        "        axs[i, j].set_yticks([])\n",
        "        axs[i, j].label_outer()\n",
        "\n",
        "# Set a super title\n",
        "fig.suptitle(f\"{class_names[label]} -> Patchified\", fontsize=16)\n",
        "plt.show()"
      ]
    },
    {
      "cell_type": "markdown",
      "id": "f774b58d-7095-4272-aba3-fd9a2db4f28f",
      "metadata": {
        "id": "f774b58d-7095-4272-aba3-fd9a2db4f28f"
      },
      "source": [
        "### 4.3 Creating image patches using conv2d\n",
        "\n"
      ]
    },
    {
      "cell_type": "code",
      "execution_count": null,
      "id": "3d4fd046-6b51-4ac0-8d39-e67fb333a18a",
      "metadata": {
        "id": "3d4fd046-6b51-4ac0-8d39-e67fb333a18a"
      },
      "outputs": [],
      "source": [
        "from torch import nn\n",
        "\n",
        "# Set the patch size\n",
        "patch_size=2 ## The patch size is smaller than the ViT paper cause our image dataset has smaller images\n",
        "\n",
        "# Create the Conv2d layer with hyperparameters from the ViT paper\n",
        "conv2d = nn.Conv2d(in_channels=3, # number of color channels\n",
        "                   out_channels=768, # from Table 1: Hidden size D, this is the embedding size\n",
        "                   kernel_size=patch_size, # could also use (patch_size, patch_size)\n",
        "                   stride=patch_size,\n",
        "                   padding=0)"
      ]
    },
    {
      "cell_type": "markdown",
      "id": "03dec513-eea5-4d13-b7ab-41c9e997ef48",
      "metadata": {
        "id": "03dec513-eea5-4d13-b7ab-41c9e997ef48"
      },
      "source": [
        "Now we've got a convolutional layer, let's see what happens when we pass a single image through it."
      ]
    },
    {
      "cell_type": "code",
      "execution_count": null,
      "id": "a72a5614-f1cb-4c01-9696-24f07bf2a219",
      "metadata": {
        "id": "a72a5614-f1cb-4c01-9696-24f07bf2a219",
        "outputId": "66f7629d-9066-4e94-cee3-08eaa7d35424",
        "colab": {
          "base_uri": "https://localhost:8080/"
        }
      },
      "outputs": [
        {
          "output_type": "stream",
          "name": "stdout",
          "text": [
            "torch.Size([1, 768, 16, 16])\n"
          ]
        }
      ],
      "source": [
        "# Pass the image through the convolutional layer\n",
        "image_out_of_conv = conv2d(image.unsqueeze(0)) # add a single batch dimension (height, width, color_channels) -> (batch, height, width, color_channels)\n",
        "print(image_out_of_conv.shape)"
      ]
    },
    {
      "cell_type": "code",
      "execution_count": null,
      "id": "af5b58ca-0d73-4c62-b4af-4e8867b764e2",
      "metadata": {
        "id": "af5b58ca-0d73-4c62-b4af-4e8867b764e2",
        "outputId": "4d8fb616-fa7c-4446-b3cd-f3ee29633962",
        "colab": {
          "base_uri": "https://localhost:8080/",
          "height": 214
        }
      },
      "outputs": [
        {
          "output_type": "stream",
          "name": "stdout",
          "text": [
            "Showing random convolutional feature maps from indexes: [680, 456, 365, 326, 714]\n"
          ]
        },
        {
          "output_type": "display_data",
          "data": {
            "text/plain": [
              "<Figure size 1200x1200 with 5 Axes>"
            ],
            "image/png": "[encoded data removed]"
          },
          "metadata": {}
        }
      ],
      "source": [
        "# Plot random 5 convolutional feature maps\n",
        "import random\n",
        "random_indexes = random.sample(range(0, 758), k=5) # pick 5 numbers between 0 and the embedding size\n",
        "print(f\"Showing random convolutional feature maps from indexes: {random_indexes}\")\n",
        "\n",
        "# Create plot\n",
        "fig, axs = plt.subplots(nrows=1, ncols=5, figsize=(12, 12))\n",
        "\n",
        "# Plot random image feature maps\n",
        "for i, idx in enumerate(random_indexes):\n",
        "    image_conv_feature_map = image_out_of_conv[:, idx, :, :] # index on the output tensor of the convolutional layer\n",
        "    axs[i].imshow(image_conv_feature_map.squeeze().detach().numpy())\n",
        "    axs[i].set(xticklabels=[], yticklabels=[], xticks=[], yticks=[]);"
      ]
    },
    {
      "cell_type": "markdown",
      "id": "b847f2e1-1700-4040-a9aa-df9ab1139cce",
      "metadata": {
        "id": "b847f2e1-1700-4040-a9aa-df9ab1139cce"
      },
      "source": [
        "These feature maps can be considered a **learnable embedding** of our image.\n",
        "\n"
      ]
    },
    {
      "cell_type": "code",
      "execution_count": null,
      "id": "94f6f5b9-a1c7-4aa1-9780-7cd06457b2b3",
      "metadata": {
        "id": "94f6f5b9-a1c7-4aa1-9780-7cd06457b2b3",
        "outputId": "33d9c668-4e6d-45e6-9651-54e19ef0631a",
        "colab": {
          "base_uri": "https://localhost:8080/"
        }
      },
      "outputs": [
        {
          "output_type": "execute_result",
          "data": {
            "text/plain": [
              "(tensor([[[ 1.4093,  1.4093,  1.4093,  1.4093,  1.4093,  1.4093,  1.4093,\n",
              "            1.4093,  1.4093,  1.4093,  1.4093,  1.4093,  1.4093,  1.4093,\n",
              "            1.4093,  1.4093],\n",
              "          [ 0.2182,  0.1350,  1.3921,  1.0936,  0.9934,  1.3139,  1.4069,\n",
              "            1.3650,  1.3986,  0.4693,  1.5130,  1.3014,  1.4480,  1.3781,\n",
              "            1.4093,  1.4093],\n",
              "          [-0.1016,  0.4778,  0.9850,  0.7579,  0.5773,  1.2884,  0.8851,\n",
              "            0.9378,  0.3922, -0.2659,  0.4152,  1.3772,  1.3490,  1.3276,\n",
              "            1.4093,  1.4093],\n",
              "          [-0.7510, -0.4331, -0.5449, -0.6491, -0.1261,  0.9690,  1.0967,\n",
              "            0.9999, -0.8914, -0.7665, -0.5348,  0.4999,  0.8395,  0.2441,\n",
              "            1.4093,  1.4093],\n",
              "          [-0.1448, -0.5575, -0.3809, -0.4015, -0.5788, -0.0082,  0.7275,\n",
              "            0.5236, -0.9473, -0.8928, -1.0462, -0.7542,  0.6621,  0.6131,\n",
              "            1.4093,  1.4093],\n",
              "          [ 0.4186,  0.5396,  0.1793, -0.5094, -0.0391, -0.8140, -0.6026,\n",
              "           -0.6143, -0.0492, -0.9745, -0.9565, -0.9494,  0.0420,  0.7540,\n",
              "            1.4093,  1.4093],\n",
              "          [ 0.7380,  0.7600,  0.8436,  0.3630,  0.1518, -0.7555, -0.6871,\n",
              "           -0.5212, -0.1070, -0.7384, -0.9249, -0.7976, -0.5327,  0.5486,\n",
              "            1.4093,  1.4093],\n",
              "          [ 0.4508,  1.4874,  1.2350, -0.3153,  0.5232, -0.4210, -0.7846,\n",
              "           -0.3714,  0.1403, -0.5164, -0.8868, -0.9301, -0.7005,  0.3250,\n",
              "            1.4093,  1.4093],\n",
              "          [ 0.5634,  1.1950,  1.0913, -0.3287,  0.1825, -0.5404, -0.7141,\n",
              "           -0.2992,  0.2206, -0.3017, -0.7088, -0.8285, -0.6685,  0.4319,\n",
              "            1.4093,  1.4093],\n",
              "          [ 0.0661,  0.5675,  0.3276, -0.3882, -0.4482, -0.3250, -0.6985,\n",
              "           -0.0622,  0.1337, -0.0965, -0.5040, -0.6660, -0.6591,  0.4038,\n",
              "            1.4093,  1.4093],\n",
              "          [-0.1474,  0.3003, -0.0401, -0.1976, -0.1732, -0.1776, -0.7886,\n",
              "            0.0281,  0.2213,  0.0608, -0.3081, -0.4916, -0.5813,  0.4906,\n",
              "            1.4093,  1.4093],\n",
              "          [-0.1869,  0.3488,  0.0172, -0.1662, -0.0344, -0.2998, -0.5582,\n",
              "            0.0963,  0.2719,  0.1123, -0.0620, -0.2819, -0.5066,  0.4564,\n",
              "            1.4093,  1.4093],\n",
              "          [ 0.2729,  0.2638,  0.3436,  0.0130, -0.1390, -0.3866, -0.3451,\n",
              "            0.2396,  0.3478,  0.0167, -0.0338, -0.3544, -0.2644,  0.2940,\n",
              "            1.4093,  1.4093],\n",
              "          [ 0.6250,  0.7355,  0.6666,  1.0650,  0.1045, -0.2876, -0.5242,\n",
              "            0.3685,  0.5615, -0.0949,  0.0203, -0.1800,  0.2413,  0.3389,\n",
              "            1.4093,  1.4093],\n",
              "          [ 0.6920,  0.8695,  1.0942,  1.5626,  0.8106, -0.1500, -0.2962,\n",
              "            0.6666,  0.8744, -0.3839,  0.2417,  0.3024,  0.3545,  0.0883,\n",
              "            1.4093,  1.4093],\n",
              "          [ 0.5306,  0.6652,  0.6705,  1.2634,  0.6481, -0.1873,  0.2391,\n",
              "            0.5632,  0.2880,  0.0674,  0.5001,  0.6221,  0.5097,  0.1496,\n",
              "            1.4093,  1.4093]]], grad_fn=<SliceBackward0>),\n",
              " True)"
            ]
          },
          "metadata": {},
          "execution_count": 25
        }
      ],
      "source": [
        "# Get a single feature map in tensor form\n",
        "single_feature_map = image_out_of_conv[:, 0, :, :]\n",
        "single_feature_map, single_feature_map.requires_grad"
      ]
    },
    {
      "cell_type": "markdown",
      "id": "fc7c08ca-a4ef-4350-b471-088b2f12b80e",
      "metadata": {
        "id": "fc7c08ca-a4ef-4350-b471-088b2f12b80e"
      },
      "source": [
        "The `grad_fn` output of the `single_feature_map` and the `requires_grad=True` attribute means PyTorch is tracking the gradients of this feature map and it will be updated by gradient descent during training."
      ]
    },
    {
      "cell_type": "markdown",
      "id": "572ae1c5-9488-4882-bdc1-409eef95424e",
      "metadata": {
        "id": "572ae1c5-9488-4882-bdc1-409eef95424e"
      },
      "source": [
        "### 4.4 Flattening the patch embedding with `torch.nn.Flatten()`\n",
        "\n"
      ]
    },
    {
      "cell_type": "code",
      "execution_count": null,
      "id": "c8219029-6162-4046-8702-0c2cb42f2378",
      "metadata": {
        "id": "c8219029-6162-4046-8702-0c2cb42f2378",
        "outputId": "b69ad8e1-149f-497e-a387-dee5ddc19c0c",
        "colab": {
          "base_uri": "https://localhost:8080/"
        }
      },
      "outputs": [
        {
          "output_type": "stream",
          "name": "stdout",
          "text": [
            "Current tensor shape: torch.Size([1, 768, 16, 16]) -> [batch, embedding_dim, feature_map_height, feature_map_width]\n"
          ]
        }
      ],
      "source": [
        "# Current tensor shape\n",
        "print(f\"Current tensor shape: {image_out_of_conv.shape} -> [batch, embedding_dim, feature_map_height, feature_map_width]\")"
      ]
    },
    {
      "cell_type": "code",
      "execution_count": null,
      "id": "ed82899d-7bbc-49f9-a423-8fa6344b8e99",
      "metadata": {
        "id": "ed82899d-7bbc-49f9-a423-8fa6344b8e99"
      },
      "outputs": [],
      "source": [
        "# Create flatten layer\n",
        "flatten = nn.Flatten(start_dim=2, # flatten feature_map_height (dimension 2)\n",
        "                     end_dim=3) # flatten feature_map_width (dimension 3)"
      ]
    },
    {
      "cell_type": "code",
      "execution_count": null,
      "id": "e3fa363b-1923-4e27-a0b5-980d885fcda2",
      "metadata": {
        "id": "e3fa363b-1923-4e27-a0b5-980d885fcda2",
        "outputId": "b6bc2423-81ff-4fb1-e6d2-498430e50c9d",
        "colab": {
          "base_uri": "https://localhost:8080/",
          "height": 517
        }
      },
      "outputs": [
        {
          "output_type": "stream",
          "name": "stderr",
          "text": [
            "WARNING:matplotlib.image:Clipping input data to the valid range for imshow with RGB data ([0..1] for floats or [0..255] for integers). Got range [-2.4290657..2.3590088].\n"
          ]
        },
        {
          "output_type": "stream",
          "name": "stdout",
          "text": [
            "Original image shape: torch.Size([3, 32, 32])\n",
            "Image feature map shape: torch.Size([1, 768, 16, 16])\n",
            "Flattened image feature map shape: torch.Size([1, 768, 256])\n"
          ]
        },
        {
          "output_type": "display_data",
          "data": {
            "text/plain": [
              "<Figure size 640x480 with 1 Axes>"
            ],
            "image/png": "[encoded data removed]"
          },
          "metadata": {}
        }
      ],
      "source": [
        "# 1. View single image\n",
        "plt.imshow(image.permute(1, 2, 0)) # adjust for matplotlib\n",
        "plt.title(class_names[label])\n",
        "plt.axis(False);\n",
        "print(f\"Original image shape: {image.shape}\")\n",
        "\n",
        "# 2. Turn image into feature maps\n",
        "image_out_of_conv = conv2d(image.unsqueeze(0)) # add batch dimension to avoid shape errors\n",
        "print(f\"Image feature map shape: {image_out_of_conv.shape}\")\n",
        "\n",
        "# 3. Flatten the feature maps\n",
        "image_out_of_conv_flattened = flatten(image_out_of_conv)\n",
        "print(f\"Flattened image feature map shape: {image_out_of_conv_flattened.shape}\")"
      ]
    },
    {
      "cell_type": "code",
      "execution_count": null,
      "id": "47f571a1-2303-4981-85f5-33936b39cf14",
      "metadata": {
        "id": "47f571a1-2303-4981-85f5-33936b39cf14",
        "outputId": "42d588b4-8e84-4d9d-b8ed-0dc755868371",
        "colab": {
          "base_uri": "https://localhost:8080/"
        }
      },
      "outputs": [
        {
          "output_type": "stream",
          "name": "stdout",
          "text": [
            "Patch embedding sequence shape: torch.Size([1, 256, 768]) -> [batch_size, num_patches, embedding_size]\n"
          ]
        }
      ],
      "source": [
        "# Get flattened image patch embeddings in right shape\n",
        "image_out_of_conv_flattened_reshaped = image_out_of_conv_flattened.permute(0, 2, 1) # [batch_size, P^2•C, N] -> [batch_size, N, P^2•C]\n",
        "print(f\"Patch embedding sequence shape: {image_out_of_conv_flattened_reshaped.shape} -> [batch_size, num_patches, embedding_size]\")"
      ]
    },
    {
      "cell_type": "code",
      "execution_count": null,
      "id": "e4204163-8689-4b9e-8828-4e1e20d9316e",
      "metadata": {
        "id": "e4204163-8689-4b9e-8828-4e1e20d9316e",
        "outputId": "a6bbbaab-585b-4810-e3a5-8c6437559276",
        "colab": {
          "base_uri": "https://localhost:8080/",
          "height": 49
        }
      },
      "outputs": [
        {
          "output_type": "display_data",
          "data": {
            "text/plain": [
              "<Figure size 2200x2200 with 1 Axes>"
            ],
            "image/png": "[encoded data removed]"
          },
          "metadata": {}
        }
      ],
      "source": [
        "# Get a single flattened feature map\n",
        "single_flattened_feature_map = image_out_of_conv_flattened_reshaped[:, :, 0] # index: (batch_size, number_of_patches, embedding_dimension)\n",
        "\n",
        "# Plot the flattened feature map visually\n",
        "plt.figure(figsize=(22, 22))\n",
        "plt.imshow(single_flattened_feature_map.detach().numpy())\n",
        "plt.title(f\"Flattened feature map shape: {single_flattened_feature_map.shape}\")\n",
        "plt.axis(False);"
      ]
    },
    {
      "cell_type": "code",
      "execution_count": null,
      "id": "0cdeb08e-948d-4810-ae8d-c607b3b9feec",
      "metadata": {
        "id": "0cdeb08e-948d-4810-ae8d-c607b3b9feec",
        "outputId": "771cde2e-69a8-4ce7-e517-a9f575d5fafc",
        "colab": {
          "base_uri": "https://localhost:8080/"
        }
      },
      "outputs": [
        {
          "output_type": "execute_result",
          "data": {
            "text/plain": [
              "(tensor([[ 1.4093,  1.4093,  1.4093,  1.4093,  1.4093,  1.4093,  1.4093,  1.4093,\n",
              "           1.4093,  1.4093,  1.4093,  1.4093,  1.4093,  1.4093,  1.4093,  1.4093,\n",
              "           0.2182,  0.1350,  1.3921,  1.0936,  0.9934,  1.3139,  1.4069,  1.3650,\n",
              "           1.3986,  0.4693,  1.5130,  1.3014,  1.4480,  1.3781,  1.4093,  1.4093,\n",
              "          -0.1016,  0.4778,  0.9850,  0.7579,  0.5773,  1.2884,  0.8851,  0.9378,\n",
              "           0.3922, -0.2659,  0.4152,  1.3772,  1.3490,  1.3276,  1.4093,  1.4093,\n",
              "          -0.7510, -0.4331, -0.5449, -0.6491, -0.1261,  0.9690,  1.0967,  0.9999,\n",
              "          -0.8914, -0.7665, -0.5348,  0.4999,  0.8395,  0.2441,  1.4093,  1.4093,\n",
              "          -0.1448, -0.5575, -0.3809, -0.4015, -0.5788, -0.0082,  0.7275,  0.5236,\n",
              "          -0.9473, -0.8928, -1.0462, -0.7542,  0.6621,  0.6131,  1.4093,  1.4093,\n",
              "           0.4186,  0.5396,  0.1793, -0.5094, -0.0391, -0.8140, -0.6026, -0.6143,\n",
              "          -0.0492, -0.9745, -0.9565, -0.9494,  0.0420,  0.7540,  1.4093,  1.4093,\n",
              "           0.7380,  0.7600,  0.8436,  0.3630,  0.1518, -0.7555, -0.6871, -0.5212,\n",
              "          -0.1070, -0.7384, -0.9249, -0.7976, -0.5327,  0.5486,  1.4093,  1.4093,\n",
              "           0.4508,  1.4874,  1.2350, -0.3153,  0.5232, -0.4210, -0.7846, -0.3714,\n",
              "           0.1403, -0.5164, -0.8868, -0.9301, -0.7005,  0.3250,  1.4093,  1.4093,\n",
              "           0.5634,  1.1950,  1.0913, -0.3287,  0.1825, -0.5404, -0.7141, -0.2992,\n",
              "           0.2206, -0.3017, -0.7088, -0.8285, -0.6685,  0.4319,  1.4093,  1.4093,\n",
              "           0.0661,  0.5675,  0.3276, -0.3882, -0.4482, -0.3250, -0.6985, -0.0622,\n",
              "           0.1337, -0.0965, -0.5040, -0.6660, -0.6591,  0.4038,  1.4093,  1.4093,\n",
              "          -0.1474,  0.3003, -0.0401, -0.1976, -0.1732, -0.1776, -0.7886,  0.0281,\n",
              "           0.2213,  0.0608, -0.3081, -0.4916, -0.5813,  0.4906,  1.4093,  1.4093,\n",
              "          -0.1869,  0.3488,  0.0172, -0.1662, -0.0344, -0.2998, -0.5582,  0.0963,\n",
              "           0.2719,  0.1123, -0.0620, -0.2819, -0.5066,  0.4564,  1.4093,  1.4093,\n",
              "           0.2729,  0.2638,  0.3436,  0.0130, -0.1390, -0.3866, -0.3451,  0.2396,\n",
              "           0.3478,  0.0167, -0.0338, -0.3544, -0.2644,  0.2940,  1.4093,  1.4093,\n",
              "           0.6250,  0.7355,  0.6666,  1.0650,  0.1045, -0.2876, -0.5242,  0.3685,\n",
              "           0.5615, -0.0949,  0.0203, -0.1800,  0.2413,  0.3389,  1.4093,  1.4093,\n",
              "           0.6920,  0.8695,  1.0942,  1.5626,  0.8106, -0.1500, -0.2962,  0.6666,\n",
              "           0.8744, -0.3839,  0.2417,  0.3024,  0.3545,  0.0883,  1.4093,  1.4093,\n",
              "           0.5306,  0.6652,  0.6705,  1.2634,  0.6481, -0.1873,  0.2391,  0.5632,\n",
              "           0.2880,  0.0674,  0.5001,  0.6221,  0.5097,  0.1496,  1.4093,  1.4093]],\n",
              "        grad_fn=<SelectBackward0>),\n",
              " True,\n",
              " torch.Size([1, 256]))"
            ]
          },
          "metadata": {},
          "execution_count": 31
        }
      ],
      "source": [
        "# See the flattened feature map as a tensor\n",
        "single_flattened_feature_map, single_flattened_feature_map.requires_grad, single_flattened_feature_map.shape"
      ]
    },
    {
      "cell_type": "markdown",
      "id": "b165987a-8370-471a-a663-711e0c6e60db",
      "metadata": {
        "id": "b165987a-8370-471a-a663-711e0c6e60db"
      },
      "source": [
        "### 4.5 Turning the ViT patch embedding layer into a module\n",
        "\n"
      ]
    },
    {
      "cell_type": "code",
      "execution_count": null,
      "id": "3ef75c7e",
      "metadata": {
        "id": "3ef75c7e"
      },
      "outputs": [],
      "source": [
        "class PatchEmbedding(nn.Module):\n",
        "    \"\"\"Turns a 2D input image into a 1D sequence learnable embedding vector.\n",
        "\n",
        "    Args:\n",
        "        in_channels (int): Number of color channels for the input images. Defaults to 3.\n",
        "        patch_size (int): Size of patches to convert input image into. Defaults to 16.\n",
        "        embedding_dim (int): Size of embedding to turn image into. Defaults to 768.\n",
        "    \"\"\"\n",
        "    def __init__(self, in_channels: int = 3, patch_size: int = 16, embedding_dim: int = 768):\n",
        "        super().__init__()\n",
        "\n",
        "        # Create a layer to turn an image into patches\n",
        "        self.patch_size = patch_size  # Save the patch size for validation in forward()\n",
        "        self.patcher = nn.Conv2d(in_channels=in_channels,\n",
        "                                 out_channels=embedding_dim,\n",
        "                                 kernel_size=patch_size,\n",
        "                                 stride=patch_size,\n",
        "                                 padding=0)\n",
        "\n",
        "        # Flatten the patch feature maps into a single dimension\n",
        "        self.flatten = nn.Flatten(start_dim=2, end_dim=3)\n",
        "\n",
        "    def forward(self, x):\n",
        "        # Ensure the input image size is divisible by the patch size\n",
        "        image_resolution = x.shape[-1]\n",
        "        assert image_resolution % self.patch_size == 0, (\n",
        "            f\"Input image size must be divisible by patch size. \"\n",
        "            f\"Image resolution: {image_resolution}, Patch size: {self.patch_size}\"\n",
        "        )\n",
        "\n",
        "        # Apply the patch embedding layer\n",
        "        x_patched = self.patcher(x)  # [batch_size, embedding_dim, num_patches_h, num_patches_w]\n",
        "        x_flattened = self.flatten(x_patched)  # [batch_size, embedding_dim, num_patches]\n",
        "        return x_flattened.permute(0, 2, 1)  # [batch_size, num_patches, embedding_dim]\n"
      ]
    },
    {
      "cell_type": "code",
      "execution_count": null,
      "id": "a5599575-44cc-46c9-95a4-e65eb1379a59",
      "metadata": {
        "id": "a5599575-44cc-46c9-95a4-e65eb1379a59",
        "outputId": "3a52b11c-0c61-49b6-d64b-a99ef5c57425",
        "colab": {
          "base_uri": "https://localhost:8080/"
        }
      },
      "outputs": [
        {
          "output_type": "stream",
          "name": "stdout",
          "text": [
            "Input image shape: torch.Size([1, 3, 32, 32])\n",
            "Output patch embedding shape: torch.Size([1, 4, 768])\n"
          ]
        }
      ],
      "source": [
        "\n",
        "# Create an instance of patch embedding layer\n",
        "patchify = PatchEmbedding(in_channels=3,\n",
        "                          patch_size=16,\n",
        "                          embedding_dim=768)\n",
        "\n",
        "# Pass a single image through\n",
        "print(f\"Input image shape: {image.unsqueeze(0).shape}\")\n",
        "patch_embedded_image = patchify(image.unsqueeze(0)) # add an extra batch dimension on the 0th index, otherwise will error\n",
        "print(f\"Output patch embedding shape: {patch_embedded_image.shape}\")"
      ]
    },
    {
      "cell_type": "markdown",
      "id": "8576f2f1-a2ad-4874-8f76-08156371f444",
      "metadata": {
        "id": "8576f2f1-a2ad-4874-8f76-08156371f444"
      },
      "source": [
        "### 4.6 Creating the class token embedding\n",
        "\n",
        "\n",
        "\n",
        "<img src=\"https://raw.githubusercontent.com/mrdbourke/pytorch-deep-learning/main/images/08-vit-paper-equation-1-the-class-token.png\" width=900 alt=\"class token embedding highlight from the vision transformer paper figure 1 and section 3.1\"/>\n",
        "\n",
        "*Left: Figure 1 from the ViT paper with the \"classification token\" or `[class]` embedding token I'm going to recreate highlighted. Right: Equation 1 and section 3.1 of the ViT paper that relate to the learnable class embedding token.*\n",
        "\n"
      ]
    },
    {
      "cell_type": "code",
      "execution_count": null,
      "id": "50381789-d73d-4648-9144-4d48da87318f",
      "metadata": {
        "id": "50381789-d73d-4648-9144-4d48da87318f",
        "outputId": "2662673d-3d62-459c-81c9-c8f44ef0b192",
        "colab": {
          "base_uri": "https://localhost:8080/"
        }
      },
      "outputs": [
        {
          "output_type": "stream",
          "name": "stdout",
          "text": [
            "tensor([[[ 0.7323, -0.7078,  0.2371,  ..., -1.7198, -1.1418, -1.7004],\n",
            "         [ 0.5774,  0.3837,  0.8370,  ..., -1.4724, -0.4590, -0.5391],\n",
            "         [ 0.0026, -0.6673,  0.8582,  ..., -0.7801,  0.6293, -0.1357],\n",
            "         [-0.6611, -0.3238,  1.2898,  ..., -0.5000, -0.3766,  0.2627]]],\n",
            "       grad_fn=<PermuteBackward0>)\n",
            "Patch embedding shape: torch.Size([1, 4, 768]) -> [batch_size, number_of_patches, embedding_dimension]\n"
          ]
        }
      ],
      "source": [
        "# View the patch embedding and patch embedding shape\n",
        "print(patch_embedded_image)\n",
        "print(f\"Patch embedding shape: {patch_embedded_image.shape} -> [batch_size, number_of_patches, embedding_dimension]\")"
      ]
    },
    {
      "cell_type": "code",
      "execution_count": null,
      "id": "cc0bb859-e62e-41a8-9a47-339e4272a152",
      "metadata": {
        "id": "cc0bb859-e62e-41a8-9a47-339e4272a152",
        "outputId": "cd7e8a0d-ab48-4fc1-ad06-e2d19cca9e6b",
        "colab": {
          "base_uri": "https://localhost:8080/"
        }
      },
      "outputs": [
        {
          "output_type": "stream",
          "name": "stdout",
          "text": [
            "tensor([[[1., 1., 1., 1., 1., 1., 1., 1., 1., 1.]]], grad_fn=<SliceBackward0>)\n",
            "Class token shape: torch.Size([1, 1, 768]) -> [batch_size, number_of_tokens, embedding_dimension]\n"
          ]
        }
      ],
      "source": [
        "# Get the batch size and embedding dimension\n",
        "batch_size = patch_embedded_image.shape[0]\n",
        "embedding_dimension = patch_embedded_image.shape[-1]\n",
        "\n",
        "# Create the class token embedding as a learnable parameter that shares the same size as the embedding dimension (D)\n",
        "class_token = nn.Parameter(torch.ones(batch_size, 1, embedding_dimension), # [batch_size, number_of_tokens, embedding_dimension]\n",
        "                           requires_grad=True) # make sure the embedding is learnable\n",
        "\n",
        "# Show the first 10 examples of the class_token\n",
        "print(class_token[:, :, :10])\n",
        "\n",
        "# Print the class_token shape\n",
        "print(f\"Class token shape: {class_token.shape} -> [batch_size, number_of_tokens, embedding_dimension]\")"
      ]
    },
    {
      "cell_type": "code",
      "execution_count": null,
      "id": "a7287b01-76cb-4371-ab07-981f7bbf2be5",
      "metadata": {
        "id": "a7287b01-76cb-4371-ab07-981f7bbf2be5",
        "outputId": "f860502a-17e7-4ed2-c587-754399b4405e",
        "colab": {
          "base_uri": "https://localhost:8080/"
        }
      },
      "outputs": [
        {
          "output_type": "stream",
          "name": "stdout",
          "text": [
            "tensor([[[ 1.0000,  1.0000,  1.0000,  ...,  1.0000,  1.0000,  1.0000],\n",
            "         [ 0.7323, -0.7078,  0.2371,  ..., -1.7198, -1.1418, -1.7004],\n",
            "         [ 0.5774,  0.3837,  0.8370,  ..., -1.4724, -0.4590, -0.5391],\n",
            "         [ 0.0026, -0.6673,  0.8582,  ..., -0.7801,  0.6293, -0.1357],\n",
            "         [-0.6611, -0.3238,  1.2898,  ..., -0.5000, -0.3766,  0.2627]]],\n",
            "       grad_fn=<CatBackward0>)\n",
            "Sequence of patch embeddings with class token prepended shape: torch.Size([1, 5, 768]) -> [batch_size, number_of_patches, embedding_dimension]\n"
          ]
        }
      ],
      "source": [
        "# Add the class token embedding to the front of the patch embedding\n",
        "patch_embedded_image_with_class_embedding = torch.cat((class_token, patch_embedded_image),\n",
        "                                                      dim=1) # concat on first dimension\n",
        "\n",
        "# Print the sequence of patch embeddings with the prepended class token embedding\n",
        "print(patch_embedded_image_with_class_embedding)\n",
        "print(f\"Sequence of patch embeddings with class token prepended shape: {patch_embedded_image_with_class_embedding.shape} -> [batch_size, number_of_patches, embedding_dimension]\")"
      ]
    },
    {
      "cell_type": "markdown",
      "id": "48502c61-16b0-4659-b95f-0e830ae93077",
      "metadata": {
        "id": "48502c61-16b0-4659-b95f-0e830ae93077"
      },
      "source": [
        "### 4.7 Creating the position embedding\n",
        "\n",
        "\n",
        ".\n",
        "\n",
        "<img src=\"https://raw.githubusercontent.com/mrdbourke/pytorch-deep-learning/main/images/08-vit-paper-equation-1-the-position-embeddings.png\" width=900 alt=\"extracting the position embeddings from the vision transformer architecture and comparing them to other sections of the vision transformer paper\"/>\n",
        "\n",
        "*Left: Figure 1 from the ViT paper with the position embedding I'm going to recreate highlighted. Right: Equation 1 and section 3.1 of the ViT paper that relate to the position embedding.*\n"
      ]
    },
    {
      "cell_type": "code",
      "execution_count": null,
      "id": "33e5e5bf-e744-4249-ac9b-08986be5ef81",
      "metadata": {
        "id": "33e5e5bf-e744-4249-ac9b-08986be5ef81",
        "outputId": "1be4a86f-ec97-41a6-f9ac-a684f97229ab",
        "colab": {
          "base_uri": "https://localhost:8080/"
        }
      },
      "outputs": [
        {
          "output_type": "execute_result",
          "data": {
            "text/plain": [
              "(tensor([[[ 1.0000,  1.0000,  1.0000,  ...,  1.0000,  1.0000,  1.0000],\n",
              "          [-0.1436, -0.1450,  0.4573,  ..., -0.4802, -0.6611,  0.1512],\n",
              "          [-0.0604, -0.2222,  0.7091,  ..., -0.1936,  0.4300, -0.2363],\n",
              "          [-0.6420, -0.1064,  0.1353,  ..., -0.4079, -0.1621, -0.0689],\n",
              "          [-0.7531,  0.1716,  0.8412,  ..., -0.6355, -0.3636, -0.2324]]],\n",
              "        grad_fn=<CatBackward0>),\n",
              " torch.Size([1, 5, 768]))"
            ]
          },
          "metadata": {},
          "execution_count": 41
        }
      ],
      "source": [
        "# View the sequence of patch embeddings with the prepended class embedding\n",
        "patch_embedded_image_with_class_embedding, patch_embedded_image_with_class_embedding.shape"
      ]
    },
    {
      "cell_type": "code",
      "execution_count": null,
      "id": "5bb7f6d1-0824-47eb-a059-6854da5c7433",
      "metadata": {
        "id": "5bb7f6d1-0824-47eb-a059-6854da5c7433",
        "outputId": "286e1468-21a3-42b4-e760-bc93eddd74e3",
        "colab": {
          "base_uri": "https://localhost:8080/"
        }
      },
      "outputs": [
        {
          "output_type": "stream",
          "name": "stdout",
          "text": [
            "tensor([[[1., 1., 1., 1., 1., 1., 1., 1., 1., 1.],\n",
            "         [1., 1., 1., 1., 1., 1., 1., 1., 1., 1.],\n",
            "         [1., 1., 1., 1., 1., 1., 1., 1., 1., 1.],\n",
            "         [1., 1., 1., 1., 1., 1., 1., 1., 1., 1.],\n",
            "         [1., 1., 1., 1., 1., 1., 1., 1., 1., 1.],\n",
            "         [1., 1., 1., 1., 1., 1., 1., 1., 1., 1.],\n",
            "         [1., 1., 1., 1., 1., 1., 1., 1., 1., 1.],\n",
            "         [1., 1., 1., 1., 1., 1., 1., 1., 1., 1.],\n",
            "         [1., 1., 1., 1., 1., 1., 1., 1., 1., 1.],\n",
            "         [1., 1., 1., 1., 1., 1., 1., 1., 1., 1.]]], grad_fn=<SliceBackward0>)\n",
            "Position embedding shape: torch.Size([1, 65, 768]) -> [batch_size, number_of_patches, embedding_dimension]\n"
          ]
        }
      ],
      "source": [
        "# Calculate N (number of patches)\n",
        "number_of_patches = int((height * width) / patch_size**2)\n",
        "\n",
        "# Get embedding dimension\n",
        "embedding_dimension = patch_embedded_image_with_class_embedding.shape[2]\n",
        "\n",
        "# Create the learnable 1D position embedding\n",
        "position_embedding = nn.Parameter(torch.ones(1,\n",
        "                                             number_of_patches+1,\n",
        "                                             embedding_dimension),\n",
        "                                  requires_grad=True) # make sure it's learnable\n",
        "\n",
        "# Show the first 10 sequences and 10 position embedding values and check the shape of the position embedding\n",
        "print(position_embedding[:, :10, :10])\n",
        "print(f\"Position embedding shape: {position_embedding.shape} -> [batch_size, number_of_patches, embedding_dimension]\")"
      ]
    },
    {
      "cell_type": "markdown",
      "id": "6654c7ed-eb94-408b-b435-9b352c84328b",
      "metadata": {
        "id": "6654c7ed-eb94-408b-b435-9b352c84328b"
      },
      "source": [
        "### 4.8 Putting it all together: from image to embedding\n",
        "\n"
      ]
    },
    {
      "cell_type": "code",
      "execution_count": null,
      "id": "8de90548-e6b0-4123-90ca-a23b0fab52a9",
      "metadata": {
        "id": "8de90548-e6b0-4123-90ca-a23b0fab52a9",
        "outputId": "48ecb47d-2103-4771-f2a6-3c9560e42942",
        "colab": {
          "base_uri": "https://localhost:8080/"
        }
      },
      "outputs": [
        {
          "output_type": "stream",
          "name": "stdout",
          "text": [
            "Image tensor shape: torch.Size([3, 32, 32])\n",
            "Input image with batch dimension shape: torch.Size([1, 3, 32, 32])\n",
            "Patching embedding shape: torch.Size([1, 64, 768])\n",
            "Class token embedding shape: torch.Size([1, 1, 768])\n",
            "Patch embedding with class token shape: torch.Size([1, 65, 768])\n",
            "Patch and position embedding shape: torch.Size([1, 65, 768])\n"
          ]
        }
      ],
      "source": [
        "\n",
        "\n",
        "# 1. Set patch size\n",
        "patch_size = 4\n",
        "\n",
        "# 2. Print shape of original image tensor and get the image dimensions\n",
        "print(f\"Image tensor shape: {image.shape}\")\n",
        "height, width = image.shape[1], image.shape[2]\n",
        "\n",
        "# 3. Get image tensor and add batch dimension\n",
        "x = image.unsqueeze(0)\n",
        "print(f\"Input image with batch dimension shape: {x.shape}\")\n",
        "\n",
        "# 4. Create patch embedding layer\n",
        "patch_embedding_layer = PatchEmbedding(in_channels=3,\n",
        "                                       patch_size=patch_size,\n",
        "                                       embedding_dim=768)\n",
        "\n",
        "# 5. Pass image through patch embedding layer\n",
        "patch_embedding = patch_embedding_layer(x)\n",
        "print(f\"Patching embedding shape: {patch_embedding.shape}\")\n",
        "\n",
        "# 6. Create class token embedding\n",
        "batch_size = patch_embedding.shape[0]\n",
        "embedding_dimension = patch_embedding.shape[-1]\n",
        "class_token = nn.Parameter(torch.ones(batch_size, 1, embedding_dimension),\n",
        "                           requires_grad=True) # make sure it's learnable\n",
        "print(f\"Class token embedding shape: {class_token.shape}\")\n",
        "\n",
        "# 7. Prepend class token embedding to patch embedding\n",
        "patch_embedding_class_token = torch.cat((class_token, patch_embedding), dim=1)\n",
        "print(f\"Patch embedding with class token shape: {patch_embedding_class_token.shape}\")\n",
        "\n",
        "# 8. Create position embedding\n",
        "number_of_patches = int((height * width) / patch_size**2)\n",
        "position_embedding = nn.Parameter(torch.ones(1, number_of_patches+1, embedding_dimension),\n",
        "                                  requires_grad=True) # make sure it's learnable\n",
        "\n",
        "# 9. Add position embedding to patch embedding with class token\n",
        "patch_and_position_embedding = patch_embedding_class_token + position_embedding\n",
        "print(f\"Patch and position embedding shape: {patch_and_position_embedding.shape}\")"
      ]
    },
    {
      "cell_type": "markdown",
      "id": "02f725de-64d1-41d2-a9d6-374cf6d4f589",
      "metadata": {
        "id": "02f725de-64d1-41d2-a9d6-374cf6d4f589"
      },
      "source": [
        "## 5. Equation 2: Multi-Head Attention (MSA)\n",
        "\n",
        "\n",
        "\n",
        "<img src=\"https://raw.githubusercontent.com/mrdbourke/pytorch-deep-learning/main/images/08-vit-paper-equation-2-msa-block-mapped-to-equation.png\" alt=\"mapping equation 2 from the ViT paper to the ViT architecture diagram in figure 1\" width=900/>\n",
        "\n",
        "***Left:** Figure 1 from the ViT paper with Multi-Head Attention and Norm layers as well as the residual connection (+) highlighted within the Transformer Encoder block. **Right:** Mapping the Multi-Head Self Attention (MSA) layer, Norm layer and residual connection to their respective parts of equation 2 in the ViT paper.*\n",
        "\n"
      ]
    },
    {
      "cell_type": "code",
      "execution_count": null,
      "id": "b76ae98c",
      "metadata": {
        "id": "b76ae98c"
      },
      "outputs": [],
      "source": [
        "# 1. Create a class that inherits from nn.Module\n",
        "class MultiheadSelfAttentionBlock(nn.Module):\n",
        "    \"\"\"Creates a multi-head self-attention block (\"MSA block\" for short).\n",
        "    \"\"\"\n",
        "    # 2. Initialize the class with hyperparameters from Table 1\n",
        "    def __init__(self,\n",
        "                 embedding_dim:int=768, # Hidden size D from Table 1 for ViT-Base\n",
        "                 num_heads:int=12, # Heads from Table 1 for ViT-Base\n",
        "                 attn_dropout:float=0): # doesn't look like the paper uses any dropout in MSABlocks\n",
        "        super().__init__()\n",
        "\n",
        "        # 3. Create the Norm layer (LN)\n",
        "        self.layer_norm = nn.LayerNorm(normalized_shape=embedding_dim)\n",
        "\n",
        "        # 4. Create the Multi-Head Attention (MSA) layer\n",
        "        self.multihead_attn = nn.MultiheadAttention(embed_dim=embedding_dim,\n",
        "                                                    num_heads=num_heads,\n",
        "                                                    dropout=attn_dropout,\n",
        "                                                    batch_first=True) # does our batch dimension come first?\n",
        "\n",
        "    # 5. Create a forward() method to pass the data through the layers\n",
        "    def forward(self, x):\n",
        "        x = self.layer_norm(x)\n",
        "        attn_output, _ = self.multihead_attn(query=x, # query embeddings\n",
        "                                             key=x, # key embeddings\n",
        "                                             value=x, # value embeddings\n",
        "                                             need_weights=False) # do we need the weights or just the layer outputs?\n",
        "        return attn_output"
      ]
    },
    {
      "cell_type": "code",
      "execution_count": null,
      "id": "ceb1dfc0-40ad-4cee-bc54-e9a5cec56895",
      "metadata": {
        "id": "ceb1dfc0-40ad-4cee-bc54-e9a5cec56895",
        "outputId": "cace8caf-977e-4939-c677-42ab8f8f0067",
        "colab": {
          "base_uri": "https://localhost:8080/"
        }
      },
      "outputs": [
        {
          "output_type": "stream",
          "name": "stdout",
          "text": [
            "Input shape of MSA block: torch.Size([1, 65, 768])\n",
            "Output shape MSA block: torch.Size([1, 65, 768])\n"
          ]
        }
      ],
      "source": [
        "# Create an instance of MSABlock\n",
        "multihead_self_attention_block = MultiheadSelfAttentionBlock(embedding_dim=768, # from Table 1\n",
        "                                                             num_heads=12) # from Table 1\n",
        "\n",
        "# Pass patch and position image embedding through MSABlock\n",
        "patched_image_through_msa_block = multihead_self_attention_block(patch_and_position_embedding)\n",
        "print(f\"Input shape of MSA block: {patch_and_position_embedding.shape}\")\n",
        "print(f\"Output shape MSA block: {patched_image_through_msa_block.shape}\")"
      ]
    },
    {
      "cell_type": "markdown",
      "id": "236848a7-a1e0-403d-8c78-d1c61d1e45fd",
      "metadata": {
        "id": "236848a7-a1e0-403d-8c78-d1c61d1e45fd",
        "tags": []
      },
      "source": [
        "## 6. Equation 3: Multilayer Perceptron (MLP)\n",
        "\n",
        "\n",
        "\n",
        "<img src=\"https://github.com/mrdbourke/pytorch-deep-learning/raw/main/images/08-vit-paper-equation-3-annotated.png\" alt=\"mapping equation 3 from the ViT paper to the ViT architecture diagram in figure 1\" width=900/>\n",
        "\n",
        "***Left:** Figure 1 from the ViT paper with MLP and Norm layers as well as the residual connection (+) highlighted within the Transformer Encoder block. **Right:** Mapping the multilayer perceptron (MLP) layer, Norm layer (LN) and residual connection to their respective parts of equation 3 in the ViT paper.*"
      ]
    },
    {
      "cell_type": "code",
      "execution_count": null,
      "id": "68d9dbfe",
      "metadata": {
        "id": "68d9dbfe"
      },
      "outputs": [],
      "source": [
        "# 1. Create a class that inherits from nn.Module\n",
        "class MLPBlock(nn.Module):\n",
        "    \"\"\"Creates a layer normalized multilayer perceptron block (\"MLP block\" for short).\"\"\"\n",
        "    # 2. Initialize the class with hyperparameters from Table 1 and Table 3\n",
        "    def __init__(self,\n",
        "                 embedding_dim:int=768, # Hidden Size D from Table 1 for ViT-Base\n",
        "                 mlp_size:int=3072, # MLP size from Table 1 for ViT-Base\n",
        "                 dropout:float=0.1): # Dropout from Table 3 for ViT-Base\n",
        "        super().__init__()\n",
        "\n",
        "        # 3. Create the Norm layer (LN)\n",
        "        self.layer_norm = nn.LayerNorm(normalized_shape=embedding_dim)\n",
        "\n",
        "        # 4. Create the Multilayer perceptron (MLP) layer(s)\n",
        "        self.mlp = nn.Sequential(\n",
        "            nn.Linear(in_features=embedding_dim,\n",
        "                      out_features=mlp_size),\n",
        "            nn.GELU(), # \"The MLP contains two layers with a GELU non-linearity (section 3.1).\"\n",
        "            nn.Dropout(p=dropout),\n",
        "            nn.Linear(in_features=mlp_size, # needs to take same in_features as out_features of layer above\n",
        "                      out_features=embedding_dim), # take back to embedding_dim\n",
        "            nn.Dropout(p=dropout) # \"Dropout, when used, is applied after every dense layer..\"\n",
        "        )\n",
        "\n",
        "    # 5. Create a forward() method to pass the data through the layers\n",
        "    def forward(self, x):\n",
        "        x = self.layer_norm(x)\n",
        "        x = self.mlp(x)\n",
        "        return x"
      ]
    },
    {
      "cell_type": "code",
      "execution_count": null,
      "id": "442fb987",
      "metadata": {
        "id": "442fb987",
        "outputId": "d4975ef2-787f-44bb-dbb1-94f56849c3cc",
        "colab": {
          "base_uri": "https://localhost:8080/"
        }
      },
      "outputs": [
        {
          "output_type": "stream",
          "name": "stdout",
          "text": [
            "Input shape of MLP block: torch.Size([1, 65, 768])\n",
            "Output shape MLP block: torch.Size([1, 65, 768])\n"
          ]
        }
      ],
      "source": [
        "# Create an instance of MLPBlock\n",
        "mlp_block = MLPBlock(embedding_dim=768, # from Table 1\n",
        "                     mlp_size=3072, # from Table 1\n",
        "                     dropout=0.1) # from Table 3\n",
        "\n",
        "# Pass output of MSABlock through MLPBlock\n",
        "patched_image_through_mlp_block = mlp_block(patched_image_through_msa_block)\n",
        "print(f\"Input shape of MLP block: {patched_image_through_msa_block.shape}\")\n",
        "print(f\"Output shape MLP block: {patched_image_through_mlp_block.shape}\")"
      ]
    },
    {
      "cell_type": "markdown",
      "id": "6259bdc6-525a-4bd6-89e8-c2dcdab09d0d",
      "metadata": {
        "id": "6259bdc6-525a-4bd6-89e8-c2dcdab09d0d"
      },
      "source": [
        "## 7. Create the Transformer Encoder\n",
        "\n",
        "\n",
        "\n",
        "`x_input -> MSA_block -> [MSA_block_output + x_input] -> MLP_block -> [MLP_block_output + MSA_block_output + x_input] -> ...`\n",
        "\n"
      ]
    },
    {
      "cell_type": "code",
      "execution_count": null,
      "id": "2c43855c",
      "metadata": {
        "id": "2c43855c"
      },
      "outputs": [],
      "source": [
        "# 1. Create a class that inherits from nn.Module\n",
        "class TransformerEncoderBlock(nn.Module):\n",
        "    \"\"\"Creates a Transformer Encoder block.\"\"\"\n",
        "    # 2. Initialize the class with hyperparameters from Table 1 and Table 3\n",
        "    def __init__(self,\n",
        "                 embedding_dim:int=768, # Hidden size D from Table 1 for ViT-Base\n",
        "                 num_heads:int=12, # Heads from Table 1 for ViT-Base\n",
        "                 mlp_size:int=3072, # MLP size from Table 1 for ViT-Base\n",
        "                 mlp_dropout:float=0.1, # Amount of dropout for dense layers from Table 3 for ViT-Base\n",
        "                 attn_dropout:float=0): # Amount of dropout for attention layers\n",
        "        super().__init__()\n",
        "\n",
        "        # 3. Create MSA block (equation 2)\n",
        "        self.msa_block = MultiheadSelfAttentionBlock(embedding_dim=embedding_dim,\n",
        "                                                     num_heads=num_heads,\n",
        "                                                     attn_dropout=attn_dropout)\n",
        "\n",
        "        # 4. Create MLP block (equation 3)\n",
        "        self.mlp_block =  MLPBlock(embedding_dim=embedding_dim,\n",
        "                                   mlp_size=mlp_size,\n",
        "                                   dropout=mlp_dropout)\n",
        "\n",
        "    # 5. Create a forward() method\n",
        "    def forward(self, x):\n",
        "\n",
        "        # 6. Create residual connection for MSA block (add the input to the output)\n",
        "        x =  self.msa_block(x) + x\n",
        "\n",
        "        # 7. Create residual connection for MLP block (add the input to the output)\n",
        "        x = self.mlp_block(x) + x\n",
        "\n",
        "        return x"
      ]
    },
    {
      "cell_type": "code",
      "execution_count": null,
      "id": "a63be4de-ffff-4fa1-97b8-103012797d36",
      "metadata": {
        "id": "a63be4de-ffff-4fa1-97b8-103012797d36",
        "colab": {
          "base_uri": "https://localhost:8080/"
        },
        "outputId": "4ee08f4f-f75e-4b2f-e42b-63200a6846db"
      },
      "outputs": [
        {
          "output_type": "execute_result",
          "data": {
            "text/plain": [
              "==================================================================================================================================\n",
              "Layer (type (var_name))                            Input Shape          Output Shape         Param #              Trainable\n",
              "==================================================================================================================================\n",
              "TransformerEncoderBlock (TransformerEncoderBlock)  [1, 197, 768]        [1, 197, 768]        --                   True\n",
              "├─MultiheadSelfAttentionBlock (msa_block)          [1, 197, 768]        [1, 197, 768]        --                   True\n",
              "│    └─LayerNorm (layer_norm)                      [1, 197, 768]        [1, 197, 768]        1,536                True\n",
              "│    └─MultiheadAttention (multihead_attn)         --                   [1, 197, 768]        2,362,368            True\n",
              "├─MLPBlock (mlp_block)                             [1, 197, 768]        [1, 197, 768]        --                   True\n",
              "│    └─LayerNorm (layer_norm)                      [1, 197, 768]        [1, 197, 768]        1,536                True\n",
              "│    └─Sequential (mlp)                            [1, 197, 768]        [1, 197, 768]        --                   True\n",
              "│    │    └─Linear (0)                             [1, 197, 768]        [1, 197, 3072]       2,362,368            True\n",
              "│    │    └─GELU (1)                               [1, 197, 3072]       [1, 197, 3072]       --                   --\n",
              "│    │    └─Dropout (2)                            [1, 197, 3072]       [1, 197, 3072]       --                   --\n",
              "│    │    └─Linear (3)                             [1, 197, 3072]       [1, 197, 768]        2,360,064            True\n",
              "│    │    └─Dropout (4)                            [1, 197, 768]        [1, 197, 768]        --                   --\n",
              "==================================================================================================================================\n",
              "Total params: 7,087,872\n",
              "Trainable params: 7,087,872\n",
              "Non-trainable params: 0\n",
              "Total mult-adds (Units.MEGABYTES): 4.73\n",
              "==================================================================================================================================\n",
              "Input size (MB): 0.61\n",
              "Forward/backward pass size (MB): 8.47\n",
              "Params size (MB): 18.90\n",
              "Estimated Total Size (MB): 27.98\n",
              "=================================================================================================================================="
            ]
          },
          "metadata": {},
          "execution_count": 50
        }
      ],
      "source": [
        "# Create an instance of TransformerEncoderBlock\n",
        "transformer_encoder_block = TransformerEncoderBlock()\n",
        "\n",
        " # Print an input and output summary of our Transformer Encoder (uncomment for full output)\n",
        "summary(model=transformer_encoder_block,\n",
        "         input_size=(1, 197, 768), # (batch_size, num_patches, embedding_dimension)\n",
        "        col_names=[\"input_size\", \"output_size\", \"num_params\", \"trainable\"],\n",
        "        col_width=20,\n",
        "       row_settings=[\"var_names\"])"
      ]
    },
    {
      "cell_type": "markdown",
      "source": [
        "#8. Big ol' ViT"
      ],
      "metadata": {
        "id": "BwgNL8RSpEWd"
      },
      "id": "BwgNL8RSpEWd"
    },
    {
      "cell_type": "code",
      "execution_count": null,
      "id": "2df890d5",
      "metadata": {
        "id": "2df890d5"
      },
      "outputs": [],
      "source": [
        "# 1. Create a ViT class that inherits from nn.Module\n",
        "class ViT(nn.Module):\n",
        "    \"\"\"Creates a Vision Transformer architecture with ViT-Base hyperparameters by default.\"\"\"\n",
        "    # 2. Initialize the class with hyperparameters from Table 1 and Table 3\n",
        "    def __init__(self,\n",
        "                 img_size:int=32, # Training resolution from Table 3 in ViT paper\n",
        "                 in_channels:int=3, # Number of channels in input image\n",
        "                 patch_size:int=2, # Patch size\n",
        "                 num_transformer_layers:int=6, # Layers from Table 1 for ViT-Base\n",
        "                 embedding_dim:int=256, # Hidden size D from Table 1 for ViT-Base\n",
        "                 mlp_size:int=1024, # MLP size from Table 1 for ViT-Base\n",
        "                 num_heads:int=4, # Heads from Table 1 for ViT-Base\n",
        "                 attn_dropout:float=0, # Dropout for attention projection\n",
        "                 mlp_dropout:float=0.1, # Dropout for dense/MLP layers\n",
        "                 embedding_dropout:float=0.1, # Dropout for patch and position embeddings\n",
        "                 num_classes:int=10): # Default for ImageNet but can customize this\n",
        "        super().__init__() # don't forget the super().__init__()!\n",
        "\n",
        "        # 3. Make the image size is divisible by the patch size\n",
        "        assert img_size % patch_size == 0, f\"Image size must be divisible by patch size, image size: {img_size}, patch size: {patch_size}.\"\n",
        "\n",
        "        # 4. Calculate number of patches (height * width/patch^2)\n",
        "        self.num_patches = (img_size * img_size) // patch_size**2\n",
        "\n",
        "        # 5. Create learnable class embedding (needs to go at front of sequence of patch embeddings)\n",
        "        self.class_embedding = nn.Parameter(data=torch.randn(1, 1, embedding_dim),\n",
        "                                            requires_grad=True)\n",
        "\n",
        "        # 6. Create learnable position embedding\n",
        "        self.position_embedding = nn.Parameter(data=torch.randn(1, self.num_patches+1, embedding_dim),\n",
        "                                               requires_grad=True)\n",
        "\n",
        "        # 7. Create embedding dropout value\n",
        "        self.embedding_dropout = nn.Dropout(p=embedding_dropout)\n",
        "\n",
        "        # 8. Create patch embedding layer\n",
        "        self.patch_embedding = PatchEmbedding(in_channels=in_channels,\n",
        "                                              patch_size=patch_size,\n",
        "                                              embedding_dim=embedding_dim)\n",
        "\n",
        "        # 9. Create Transformer Encoder blocks (we can stack Transformer Encoder blocks using nn.Sequential())\n",
        "        # Note: The \"*\" means \"all\"\n",
        "        self.transformer_encoder = nn.Sequential(*[TransformerEncoderBlock(embedding_dim=embedding_dim,\n",
        "                                                                            num_heads=num_heads,\n",
        "                                                                            mlp_size=mlp_size,\n",
        "                                                                            mlp_dropout=mlp_dropout) for _ in range(num_transformer_layers)])\n",
        "\n",
        "        # 10. Create classifier head\n",
        "        self.classifier = nn.Sequential(\n",
        "            nn.LayerNorm(normalized_shape=embedding_dim),\n",
        "            nn.Linear(in_features=embedding_dim,\n",
        "                      out_features=num_classes)\n",
        "        )\n",
        "\n",
        "    # 11. Create a forward() method\n",
        "    def forward(self, x):\n",
        "\n",
        "        # 12. Get batch size\n",
        "        batch_size = x.shape[0]\n",
        "\n",
        "        # 13. Create class token embedding and expand it to match the batch size (equation 1)\n",
        "        class_token = self.class_embedding.expand(batch_size, -1, -1) # \"-1\" means to infer the dimension (try this line on its own)\n",
        "\n",
        "        # 14. Create patch embedding (equation 1)\n",
        "        x = self.patch_embedding(x)\n",
        "\n",
        "        # 15. Concat class embedding and patch embedding (equation 1)\n",
        "        x = torch.cat((class_token, x), dim=1)\n",
        "\n",
        "        # 16. Add position embedding to patch embedding (equation 1)\n",
        "        x = self.position_embedding + x\n",
        "\n",
        "        # 17. Run embedding dropout (Appendix B.1)\n",
        "        x = self.embedding_dropout(x)\n",
        "\n",
        "        # 18. Pass patch, position and class embedding through transformer encoder layers (equations 2 & 3)\n",
        "        x = self.transformer_encoder(x)\n",
        "\n",
        "        # 19. Put 0 index logit through classifier (equation 4)\n",
        "        x = self.classifier(x[:, 0]) # run on each sample in a batch at 0 index\n",
        "\n",
        "        return x"
      ]
    },
    {
      "cell_type": "code",
      "execution_count": null,
      "id": "f86190a3-ed1f-4ab3-881c-4eecea996912",
      "metadata": {
        "id": "f86190a3-ed1f-4ab3-881c-4eecea996912",
        "outputId": "c8ccd1b1-471e-4254-e524-3554d502256a",
        "colab": {
          "base_uri": "https://localhost:8080/"
        }
      },
      "outputs": [
        {
          "output_type": "execute_result",
          "data": {
            "text/plain": [
              "tensor([[-0.5572,  1.1784,  0.3913,  1.1599,  0.2731,  0.2038,  0.4134,  0.6121,\n",
              "          0.0054, -0.9568]], grad_fn=<AddmmBackward0>)"
            ]
          },
          "metadata": {},
          "execution_count": 43
        }
      ],
      "source": [
        "##Testing the ViT\n",
        "\n",
        "# Create a random tensor with same shape as a single image\n",
        "random_image_tensor = torch.randn(1, 3, 32, 32) # (batch_size, color_channels, height, width)\n",
        "\n",
        "# Create an instance of ViT with the number of classes we're working with (pizza, steak, sushi)\n",
        "vit = ViT(num_classes=len(class_names))\n",
        "\n",
        "# Pass the random image tensor to our ViT instance\n",
        "vit(random_image_tensor)"
      ]
    },
    {
      "cell_type": "markdown",
      "id": "2c0a0c9c-6d98-47fd-a152-8a06be99b5fa",
      "metadata": {
        "id": "2c0a0c9c-6d98-47fd-a152-8a06be99b5fa"
      },
      "source": [
        "### 8.1 Getting a visual summary of our ViT model\n",
        "\n"
      ]
    },
    {
      "cell_type": "code",
      "execution_count": null,
      "id": "494bde26-ed1e-45dc-b615-78ac268ca20e",
      "metadata": {
        "id": "494bde26-ed1e-45dc-b615-78ac268ca20e"
      },
      "outputs": [],
      "source": [
        "from torchinfo import summary\n",
        "\n",
        "# # Print a summary of our custom ViT model using torchinfo (uncomment for actual output)\n",
        "# summary(model=vit,\n",
        "#         input_size=(32, 3, 224, 224), # (batch_size, color_channels, height, width)\n",
        "#         # col_names=[\"input_size\"], # uncomment for smaller output\n",
        "#         col_names=[\"input_size\", \"output_size\", \"num_params\", \"trainable\"],\n",
        "#         col_width=20,\n",
        "#         row_settings=[\"var_names\"]\n",
        "# )\n",
        "\n",
        "##I have included the image directly cause it was takin a while to do this fro whaetevr reason"
      ]
    },
    {
      "cell_type": "markdown",
      "id": "d0279251-5cc1-42a5-bebc-8391ef911343",
      "metadata": {
        "id": "d0279251-5cc1-42a5-bebc-8391ef911343"
      },
      "source": [
        "<img src=\"https://raw.githubusercontent.com/mrdbourke/pytorch-deep-learning/main/images/08-vit-paper-summary-output-custom-vit-model.png\" alt=\"input and output summary of our custom made ViT model\" width=900/>\n",
        "\n"
      ]
    },
    {
      "cell_type": "markdown",
      "id": "e8088ca7-48b4-4a96-8f58-f84980073e0b",
      "metadata": {
        "id": "e8088ca7-48b4-4a96-8f58-f84980073e0b"
      },
      "source": [
        "## 9. Training Setup\n",
        "\n"
      ]
    },
    {
      "cell_type": "code",
      "execution_count": null,
      "id": "9107b068-f253-4026-ad21-83be41404043",
      "metadata": {
        "colab": {
          "base_uri": "https://localhost:8080/"
        },
        "id": "9107b068-f253-4026-ad21-83be41404043",
        "outputId": "a1c2835e-99d7-4eac-fcf7-45c75932310b"
      },
      "outputs": [
        {
          "output_type": "stream",
          "name": "stdout",
          "text": [
            "Epoch 1/30 | Train Loss: 1.7735 | Test Loss: 1.5777 | Test Accuracy: 0.4216\n",
            "Epoch 2/30 | Train Loss: 1.4553 | Test Loss: 1.3616 | Test Accuracy: 0.4992\n",
            "Epoch 3/30 | Train Loss: 1.3049 | Test Loss: 1.2230 | Test Accuracy: 0.5544\n",
            "Epoch 4/30 | Train Loss: 1.2104 | Test Loss: 1.1711 | Test Accuracy: 0.5750\n",
            "Epoch 5/30 | Train Loss: 1.1366 | Test Loss: 1.0923 | Test Accuracy: 0.6058\n",
            "Epoch 6/30 | Train Loss: 1.0801 | Test Loss: 1.0218 | Test Accuracy: 0.6320\n",
            "Epoch 7/30 | Train Loss: 1.0297 | Test Loss: 0.9830 | Test Accuracy: 0.6450\n",
            "Epoch 8/30 | Train Loss: 0.9856 | Test Loss: 1.0009 | Test Accuracy: 0.6446\n",
            "Epoch 9/30 | Train Loss: 0.9490 | Test Loss: 0.9297 | Test Accuracy: 0.6726\n",
            "Epoch 10/30 | Train Loss: 0.9166 | Test Loss: 0.9142 | Test Accuracy: 0.6715\n",
            "Epoch 11/30 | Train Loss: 0.8851 | Test Loss: 0.9234 | Test Accuracy: 0.6710\n",
            "Epoch 12/30 | Train Loss: 0.8566 | Test Loss: 0.8702 | Test Accuracy: 0.6905\n",
            "Epoch 13/30 | Train Loss: 0.8284 | Test Loss: 0.8710 | Test Accuracy: 0.6895\n",
            "Epoch 14/30 | Train Loss: 0.8034 | Test Loss: 0.8373 | Test Accuracy: 0.7048\n",
            "Epoch 15/30 | Train Loss: 0.7766 | Test Loss: 0.8655 | Test Accuracy: 0.6994\n",
            "Epoch 16/30 | Train Loss: 0.7508 | Test Loss: 0.8300 | Test Accuracy: 0.7034\n",
            "Epoch 17/30 | Train Loss: 0.7287 | Test Loss: 0.7747 | Test Accuracy: 0.7281\n",
            "Epoch 18/30 | Train Loss: 0.7030 | Test Loss: 0.7539 | Test Accuracy: 0.7340\n",
            "Epoch 19/30 | Train Loss: 0.6824 | Test Loss: 0.7992 | Test Accuracy: 0.7184\n",
            "Epoch 20/30 | Train Loss: 0.6621 | Test Loss: 0.7612 | Test Accuracy: 0.7362\n",
            "Epoch 21/30 | Train Loss: 0.6393 | Test Loss: 0.7627 | Test Accuracy: 0.7376\n",
            "Epoch 22/30 | Train Loss: 0.6173 | Test Loss: 0.7555 | Test Accuracy: 0.7451\n",
            "Epoch 23/30 | Train Loss: 0.5981 | Test Loss: 0.7350 | Test Accuracy: 0.7472\n",
            "Epoch 24/30 | Train Loss: 0.5802 | Test Loss: 0.7353 | Test Accuracy: 0.7447\n",
            "Epoch 25/30 | Train Loss: 0.5638 | Test Loss: 0.7162 | Test Accuracy: 0.7510\n",
            "Epoch 26/30 | Train Loss: 0.5407 | Test Loss: 0.7241 | Test Accuracy: 0.7490\n",
            "Epoch 27/30 | Train Loss: 0.5236 | Test Loss: 0.7377 | Test Accuracy: 0.7479\n",
            "Epoch 28/30 | Train Loss: 0.5081 | Test Loss: 0.7441 | Test Accuracy: 0.7504\n",
            "Epoch 29/30 | Train Loss: 0.4926 | Test Loss: 0.6957 | Test Accuracy: 0.7686\n",
            "Epoch 30/30 | Train Loss: 0.4726 | Test Loss: 0.7102 | Test Accuracy: 0.7594\n"
          ]
        }
      ],
      "source": [
        "\n",
        "import torch\n",
        "from torch import nn, optim\n",
        "\n",
        "\n",
        "\n",
        "vit.classifier[-1] = nn.Linear(vit.classifier[-1].in_features, 10)  # Update for CIFAR-10\n",
        "\n",
        "\n",
        "# Setup optimizer with ViT paper hyperparameters\n",
        "optimizer = optim.AdamW(\n",
        "    vit.parameters(),\n",
        "    lr=0.0003,  # Learning rate from ViT paper\n",
        "    betas=(0.9, 0.999),  # ViT default values\n",
        "    weight_decay=0.01  # Regularization strength\n",
        ")\n",
        "\n",
        "# Setup loss function for multi-class classification\n",
        "loss_fn = nn.CrossEntropyLoss()\n",
        "\n",
        "# Compile the model for better performance (PyTorch 2.0+)\n",
        "compiled_model = torch.compile(vit)\n",
        "\n",
        "# Efficient training loop\n",
        "def train(model, train_dataloader, test_dataloader, optimizer, loss_fn, epochs, device):\n",
        "    model = model.to(device)\n",
        "    results = {\"train_loss\": [], \"test_loss\": [], \"test_accuracy\": []}\n",
        "\n",
        "    for epoch in range(epochs):\n",
        "        # Training phase\n",
        "        model.train()\n",
        "        train_loss = 0\n",
        "        for X, y in train_dataloader:\n",
        "            X, y = X.to(device), y.to(device)\n",
        "            optimizer.zero_grad()\n",
        "            y_pred = model(X)\n",
        "            loss = loss_fn(y_pred, y)\n",
        "            loss.backward()\n",
        "            optimizer.step()\n",
        "            train_loss += loss.item()\n",
        "\n",
        "        train_loss /= len(train_dataloader)\n",
        "        results[\"train_loss\"].append(train_loss)\n",
        "\n",
        "        # Evaluation phase\n",
        "        model.eval()\n",
        "        test_loss = 0\n",
        "        correct = 0\n",
        "        with torch.no_grad():\n",
        "            for X, y in test_dataloader:\n",
        "                X, y = X.to(device), y.to(device)\n",
        "                y_pred = model(X)\n",
        "                test_loss += loss_fn(y_pred, y).item()\n",
        "                correct += (y_pred.argmax(1) == y).sum().item()\n",
        "\n",
        "        test_loss /= len(test_dataloader)\n",
        "        test_accuracy =  correct / len(test_dataloader.dataset)\n",
        "        results[\"test_loss\"].append(test_loss)\n",
        "        results[\"test_accuracy\"].append(test_accuracy)\n",
        "\n",
        "        print(f\"Epoch {epoch+1}/{epochs} | \"\n",
        "              f\"Train Loss: {train_loss:.4f} | \"\n",
        "              f\"Test Loss: {test_loss:.4f} | \"\n",
        "              f\"Test Accuracy: {test_accuracy:.4f}\")\n",
        "\n",
        "    return results\n",
        "\n",
        "# Train the compiled model\n",
        "device = \"cuda\" if torch.cuda.is_available() else \"cpu\"\n",
        "results = train(\n",
        "    model=compiled_model,\n",
        "    train_dataloader=train_dataloader,\n",
        "    test_dataloader=test_dataloader,\n",
        "    optimizer=optimizer,\n",
        "    loss_fn=loss_fn,\n",
        "    epochs=30,\n",
        "    device=device\n",
        ")\n"
      ]
    },
    {
      "cell_type": "markdown",
      "id": "32cb3ad2-6eea-4b69-9ce8-322270643919",
      "metadata": {
        "id": "32cb3ad2-6eea-4b69-9ce8-322270643919"
      },
      "source": [
        "### 9.5 Plot the loss curves of our ViT model\n",
        "\n",
        "We've trained our ViT model and seen the results as numbers on a page.\n",
        "\n",
        "But let's now follow the data explorer's motto of *visualize, visualize, visualize!*\n",
        "\n",
        "And one of the best things to visualize for a model is its loss curves.\n",
        "\n",
        "To check out our ViT model's loss curves, we can use the `plot_loss_curves` function from `helper_functions.py` we created in [04. PyTorch Custom Datasets section 7.8](https://www.learnpytorch.io/04_pytorch_custom_datasets/#78-plot-the-loss-curves-of-model-0)."
      ]
    },
    {
      "cell_type": "code",
      "execution_count": null,
      "id": "fcca1148-6475-4012-bfc9-cbad2706c22d",
      "metadata": {
        "id": "fcca1148-6475-4012-bfc9-cbad2706c22d",
        "outputId": "70969476-f2fa-4969-f1fa-e4a16db2a376"
      },
      "outputs": [
        {
          "data": {
            "image/png": "[encoded data removed]",
            "text/plain": [
              "<Figure size 1080x504 with 2 Axes>"
            ]
          },
          "metadata": {
            "needs_background": "light"
          },
          "output_type": "display_data"
        }
      ],
      "source": [
        "\n",
        "# Plot our ViT model's loss curves\n",
        "plot_loss_curves(results)"
      ]
    },
    {
      "cell_type": "markdown",
      "id": "0c370cae-9854-474c-be05-51dabe62c204",
      "metadata": {
        "id": "0c370cae-9854-474c-be05-51dabe62c204"
      },
      "source": [
        "Hmm, it looks like our model's loss curves are all over the place.\n",
        "\n",
        "At least the loss looks like it's heading the right direction but the accuracy curves don't really show much promise.\n",
        "\n",
        "These results are likely because of the difference in data resources and training regime of our ViT model versus the ViT paper.\n",
        "\n",
        "It seems our model is [severely underfitting](learnpytorch.io/04_pytorch_custom_datasets/#82-how-to-deal-with-underfitting) (not achieving the results we'd like it to).\n",
        "\n",
        "How about we see if we can fix that by bringing in a pretrained ViT model?"
      ]
    },
    {
      "cell_type": "markdown",
      "id": "3ac9256f-90fb-4c75-8100-38977886aa80",
      "metadata": {
        "id": "3ac9256f-90fb-4c75-8100-38977886aa80"
      },
      "source": [
        "Woah!\n",
        "\n",
        "Those are some close to textbook looking (really good) loss curves (check out [04. PyTorch Custom Datasets section 8](https://www.learnpytorch.io/04_pytorch_custom_datasets/#8-what-should-an-ideal-loss-curve-look-like) for what an ideal loss curve should look like).\n",
        "\n",
        "That's the power of transfer learning!\n",
        "\n",
        "We managed to get outstanding results with the *same* model architecture, except our custom implementation was trained from scratch (worse performance) and this feature extractor model has the power of pretrained weights from ImageNet behind it.\n",
        "\n",
        "What do you think?\n",
        "\n",
        "Would our feature extractor model improve more if you kept training it?"
      ]
    },
    {
      "cell_type": "markdown",
      "id": "eab07548-3b1c-43a3-9f8d-02672ef1f47c",
      "metadata": {
        "id": "eab07548-3b1c-43a3-9f8d-02672ef1f47c"
      },
      "source": [
        "### 10.6 Save feature extractor ViT model\n",
        "\n"
      ]
    },
    {
      "cell_type": "code",
      "execution_count": 1,
      "id": "0fd00943-01aa-4ef4-b366-3cb859a25b6f",
      "metadata": {
        "id": "0fd00943-01aa-4ef4-b366-3cb859a25b6f",
        "outputId": "2c6c06f2-7bbe-4848-8ff2-d2230f909371",
        "colab": {
          "base_uri": "https://localhost:8080/",
          "height": 211
        }
      },
      "outputs": [
        {
          "output_type": "error",
          "ename": "NameError",
          "evalue": "name 'save_model' is not defined",
          "traceback": [
            "\u001b[0;31m---------------------------------------------------------------------------\u001b[0m",
            "\u001b[0;31mNameError\u001b[0m                                 Traceback (most recent call last)",
            "\u001b[0;32m<ipython-input-1-41c4105788bf>\u001b[0m in \u001b[0;36m<cell line: 0>\u001b[0;34m()\u001b[0m\n\u001b[1;32m      2\u001b[0m \u001b[0;34m\u001b[0m\u001b[0m\n\u001b[1;32m      3\u001b[0m \u001b[0;34m\u001b[0m\u001b[0m\n\u001b[0;32m----> 4\u001b[0;31m save_model(model=compiled_model,\n\u001b[0m\u001b[1;32m      5\u001b[0m                  \u001b[0mtarget_dir\u001b[0m\u001b[0;34m=\u001b[0m\u001b[0;34m\"models\"\u001b[0m\u001b[0;34m,\u001b[0m\u001b[0;34m\u001b[0m\u001b[0;34m\u001b[0m\u001b[0m\n\u001b[1;32m      6\u001b[0m                  model_name=\"08_pretrained_vit_feature_extractor_pizza_steak_sushi.pth\")\n",
            "\u001b[0;31mNameError\u001b[0m: name 'save_model' is not defined"
          ]
        }
      ],
      "source": [
        "# Save the model\n",
        "\n",
        "\n",
        "save_model(model=compiled_model,\n",
        "                 target_dir=\"models\",\n",
        "                 model_name=\"vit_from_scratch.pth\")"
      ]
    },
    {
      "cell_type": "code",
      "execution_count": null,
      "id": "f52ef12c-b88e-4796-84eb-981491a84334",
      "metadata": {
        "id": "f52ef12c-b88e-4796-84eb-981491a84334",
        "outputId": "7ef88212-52f4-4f39-9e25-8dda3469f749"
      },
      "outputs": [
        {
          "name": "stdout",
          "output_type": "stream",
          "text": [
            "Pretrained ViT feature extractor model size: 327 MB\n"
          ]
        }
      ],
      "source": [
        "from pathlib import Path\n",
        "\n",
        "# Get the model size in bytes then convert to megabytes\n",
        "pretrained_vit_model_size = Path(\"models/08_pretrained_vit_feature_extractor_pizza_steak_sushi.pth\").stat().st_size // (1024*1024) # division converts bytes to megabytes (roughly)\n",
        "print(f\"Pretrained ViT feature extractor model size: {pretrained_vit_model_size} MB\")"
      ]
    },
    {
      "cell_type": "code",
      "source": [
        "pip freeze > requirements.txt\n"
      ],
      "metadata": {
        "id": "kVGn6pMnt_PR"
      },
      "id": "kVGn6pMnt_PR",
      "execution_count": 3,
      "outputs": []
    }
  ],
  "metadata": {
    "colab": {
      "provenance": [],
      "gpuType": "T4"
    },
    "kernelspec": {
      "display_name": "Python 3",
      "name": "python3"
    },
    "language_info": {
      "codemirror_mode": {
        "name": "ipython",
        "version": 3
      },
      "file_extension": ".py",
      "mimetype": "text/x-python",
      "name": "python",
      "nbconvert_exporter": "python",
      "pygments_lexer": "ipython3",
      "version": "3.12.4"
    },
    "vscode": {
      "interpreter": {
        "hash": "110a4ad9b3b23ac6a757cfb6c77f1e39e8d0496598f07ec14a944919c025e818"
      }
    },
    "accelerator": "GPU"
  },
  "nbformat": 4,
  "nbformat_minor": 5
}
